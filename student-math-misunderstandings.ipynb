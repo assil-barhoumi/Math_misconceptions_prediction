{
 "cells": [
  {
   "cell_type": "markdown",
   "id": "f2e619b3",
   "metadata": {
    "papermill": {
     "duration": 0.002796,
     "end_time": "2025-10-17T17:38:30.466604",
     "exception": false,
     "start_time": "2025-10-17T17:38:30.463808",
     "status": "completed"
    },
    "tags": []
   },
   "source": [
    "prepare the environment : "
   ]
  },
  {
   "cell_type": "code",
   "execution_count": 1,
   "id": "b27a9b1c",
   "metadata": {
    "_cell_guid": "b1076dfc-b9ad-4769-8c92-a6c4dae69d19",
    "_uuid": "8f2839f25d086af736a60e9eeb907d3b93b6e0e5",
    "execution": {
     "iopub.execute_input": "2025-10-17T17:38:30.472855Z",
     "iopub.status.busy": "2025-10-17T17:38:30.472433Z",
     "iopub.status.idle": "2025-10-17T17:38:35.634364Z",
     "shell.execute_reply": "2025-10-17T17:38:35.633219Z"
    },
    "papermill": {
     "duration": 5.166885,
     "end_time": "2025-10-17T17:38:35.636116",
     "exception": false,
     "start_time": "2025-10-17T17:38:30.469231",
     "status": "completed"
    },
    "tags": []
   },
   "outputs": [
    {
     "name": "stdout",
     "output_type": "stream",
     "text": [
      "Requirement already satisfied: pandas in /usr/local/lib/python3.11/dist-packages (2.2.3)\r\n",
      "Requirement already satisfied: numpy in /usr/local/lib/python3.11/dist-packages (1.26.4)\r\n",
      "Requirement already satisfied: matplotlib in /usr/local/lib/python3.11/dist-packages (3.7.2)\r\n",
      "Requirement already satisfied: seaborn in /usr/local/lib/python3.11/dist-packages (0.12.2)\r\n",
      "Requirement already satisfied: python-dateutil>=2.8.2 in /usr/local/lib/python3.11/dist-packages (from pandas) (2.9.0.post0)\r\n",
      "Requirement already satisfied: pytz>=2020.1 in /usr/local/lib/python3.11/dist-packages (from pandas) (2025.2)\r\n",
      "Requirement already satisfied: tzdata>=2022.7 in /usr/local/lib/python3.11/dist-packages (from pandas) (2025.2)\r\n",
      "Requirement already satisfied: mkl_fft in /usr/local/lib/python3.11/dist-packages (from numpy) (1.3.8)\r\n",
      "Requirement already satisfied: mkl_random in /usr/local/lib/python3.11/dist-packages (from numpy) (1.2.4)\r\n",
      "Requirement already satisfied: mkl_umath in /usr/local/lib/python3.11/dist-packages (from numpy) (0.1.1)\r\n",
      "Requirement already satisfied: mkl in /usr/local/lib/python3.11/dist-packages (from numpy) (2025.2.0)\r\n",
      "Requirement already satisfied: tbb4py in /usr/local/lib/python3.11/dist-packages (from numpy) (2022.2.0)\r\n",
      "Requirement already satisfied: mkl-service in /usr/local/lib/python3.11/dist-packages (from numpy) (2.4.1)\r\n",
      "Requirement already satisfied: contourpy>=1.0.1 in /usr/local/lib/python3.11/dist-packages (from matplotlib) (1.3.2)\r\n",
      "Requirement already satisfied: cycler>=0.10 in /usr/local/lib/python3.11/dist-packages (from matplotlib) (0.12.1)\r\n",
      "Requirement already satisfied: fonttools>=4.22.0 in /usr/local/lib/python3.11/dist-packages (from matplotlib) (4.59.0)\r\n",
      "Requirement already satisfied: kiwisolver>=1.0.1 in /usr/local/lib/python3.11/dist-packages (from matplotlib) (1.4.8)\r\n",
      "Requirement already satisfied: packaging>=20.0 in /usr/local/lib/python3.11/dist-packages (from matplotlib) (25.0)\r\n",
      "Requirement already satisfied: pillow>=6.2.0 in /usr/local/lib/python3.11/dist-packages (from matplotlib) (11.3.0)\r\n",
      "Requirement already satisfied: pyparsing<3.1,>=2.3.1 in /usr/local/lib/python3.11/dist-packages (from matplotlib) (3.0.9)\r\n",
      "Requirement already satisfied: six>=1.5 in /usr/local/lib/python3.11/dist-packages (from python-dateutil>=2.8.2->pandas) (1.17.0)\r\n",
      "Requirement already satisfied: intel-openmp<2026,>=2024 in /usr/local/lib/python3.11/dist-packages (from mkl->numpy) (2024.2.0)\r\n",
      "Requirement already satisfied: tbb==2022.* in /usr/local/lib/python3.11/dist-packages (from mkl->numpy) (2022.2.0)\r\n",
      "Requirement already satisfied: tcmlib==1.* in /usr/local/lib/python3.11/dist-packages (from tbb==2022.*->mkl->numpy) (1.4.0)\r\n",
      "Requirement already satisfied: intel-cmplr-lib-rt in /usr/local/lib/python3.11/dist-packages (from mkl_umath->numpy) (2024.2.0)\r\n",
      "Requirement already satisfied: intel-cmplr-lib-ur==2024.2.0 in /usr/local/lib/python3.11/dist-packages (from intel-openmp<2026,>=2024->mkl->numpy) (2024.2.0)\r\n",
      "Note: you may need to restart the kernel to use updated packages.\n"
     ]
    }
   ],
   "source": [
    "pip install pandas numpy matplotlib seaborn"
   ]
  },
  {
   "cell_type": "markdown",
   "id": "ad63cd82",
   "metadata": {
    "papermill": {
     "duration": 0.00277,
     "end_time": "2025-10-17T17:38:35.642086",
     "exception": false,
     "start_time": "2025-10-17T17:38:35.639316",
     "status": "completed"
    },
    "tags": []
   },
   "source": [
    "**data loading**"
   ]
  },
  {
   "cell_type": "code",
   "execution_count": 2,
   "id": "d87be616",
   "metadata": {
    "execution": {
     "iopub.execute_input": "2025-10-17T17:38:35.649787Z",
     "iopub.status.busy": "2025-10-17T17:38:35.649064Z",
     "iopub.status.idle": "2025-10-17T17:38:37.802604Z",
     "shell.execute_reply": "2025-10-17T17:38:37.801525Z"
    },
    "papermill": {
     "duration": 2.159577,
     "end_time": "2025-10-17T17:38:37.804337",
     "exception": false,
     "start_time": "2025-10-17T17:38:35.644760",
     "status": "completed"
    },
    "tags": []
   },
   "outputs": [
    {
     "name": "stdout",
     "output_type": "stream",
     "text": [
      "(36696, 7)\n"
     ]
    },
    {
     "data": {
      "text/html": [
       "<div>\n",
       "<style scoped>\n",
       "    .dataframe tbody tr th:only-of-type {\n",
       "        vertical-align: middle;\n",
       "    }\n",
       "\n",
       "    .dataframe tbody tr th {\n",
       "        vertical-align: top;\n",
       "    }\n",
       "\n",
       "    .dataframe thead th {\n",
       "        text-align: right;\n",
       "    }\n",
       "</style>\n",
       "<table border=\"1\" class=\"dataframe\">\n",
       "  <thead>\n",
       "    <tr style=\"text-align: right;\">\n",
       "      <th></th>\n",
       "      <th>row_id</th>\n",
       "      <th>QuestionId</th>\n",
       "      <th>QuestionText</th>\n",
       "      <th>MC_Answer</th>\n",
       "      <th>StudentExplanation</th>\n",
       "      <th>Category</th>\n",
       "      <th>Misconception</th>\n",
       "    </tr>\n",
       "  </thead>\n",
       "  <tbody>\n",
       "    <tr>\n",
       "      <th>0</th>\n",
       "      <td>0</td>\n",
       "      <td>31772</td>\n",
       "      <td>What fraction of the shape is not shaded? Give...</td>\n",
       "      <td>\\( \\frac{1}{3} \\)</td>\n",
       "      <td>0ne third is equal to tree nineth</td>\n",
       "      <td>True_Correct</td>\n",
       "      <td>NaN</td>\n",
       "    </tr>\n",
       "    <tr>\n",
       "      <th>1</th>\n",
       "      <td>1</td>\n",
       "      <td>31772</td>\n",
       "      <td>What fraction of the shape is not shaded? Give...</td>\n",
       "      <td>\\( \\frac{1}{3} \\)</td>\n",
       "      <td>1 / 3 because 6 over 9 is 2 thirds and 1 third...</td>\n",
       "      <td>True_Correct</td>\n",
       "      <td>NaN</td>\n",
       "    </tr>\n",
       "    <tr>\n",
       "      <th>2</th>\n",
       "      <td>2</td>\n",
       "      <td>31772</td>\n",
       "      <td>What fraction of the shape is not shaded? Give...</td>\n",
       "      <td>\\( \\frac{1}{3} \\)</td>\n",
       "      <td>1 3rd is half of 3 6th, so it is simplee to un...</td>\n",
       "      <td>True_Neither</td>\n",
       "      <td>NaN</td>\n",
       "    </tr>\n",
       "    <tr>\n",
       "      <th>3</th>\n",
       "      <td>3</td>\n",
       "      <td>31772</td>\n",
       "      <td>What fraction of the shape is not shaded? Give...</td>\n",
       "      <td>\\( \\frac{1}{3} \\)</td>\n",
       "      <td>1 goes into everything and 3 goes into nine</td>\n",
       "      <td>True_Neither</td>\n",
       "      <td>NaN</td>\n",
       "    </tr>\n",
       "    <tr>\n",
       "      <th>4</th>\n",
       "      <td>4</td>\n",
       "      <td>31772</td>\n",
       "      <td>What fraction of the shape is not shaded? Give...</td>\n",
       "      <td>\\( \\frac{1}{3} \\)</td>\n",
       "      <td>1 out of every 3 isn't coloured</td>\n",
       "      <td>True_Correct</td>\n",
       "      <td>NaN</td>\n",
       "    </tr>\n",
       "  </tbody>\n",
       "</table>\n",
       "</div>"
      ],
      "text/plain": [
       "   row_id  QuestionId                                       QuestionText  \\\n",
       "0       0       31772  What fraction of the shape is not shaded? Give...   \n",
       "1       1       31772  What fraction of the shape is not shaded? Give...   \n",
       "2       2       31772  What fraction of the shape is not shaded? Give...   \n",
       "3       3       31772  What fraction of the shape is not shaded? Give...   \n",
       "4       4       31772  What fraction of the shape is not shaded? Give...   \n",
       "\n",
       "           MC_Answer                                 StudentExplanation  \\\n",
       "0  \\( \\frac{1}{3} \\)                  0ne third is equal to tree nineth   \n",
       "1  \\( \\frac{1}{3} \\)  1 / 3 because 6 over 9 is 2 thirds and 1 third...   \n",
       "2  \\( \\frac{1}{3} \\)  1 3rd is half of 3 6th, so it is simplee to un...   \n",
       "3  \\( \\frac{1}{3} \\)        1 goes into everything and 3 goes into nine   \n",
       "4  \\( \\frac{1}{3} \\)                    1 out of every 3 isn't coloured   \n",
       "\n",
       "       Category Misconception  \n",
       "0  True_Correct           NaN  \n",
       "1  True_Correct           NaN  \n",
       "2  True_Neither           NaN  \n",
       "3  True_Neither           NaN  \n",
       "4  True_Correct           NaN  "
      ]
     },
     "execution_count": 2,
     "metadata": {},
     "output_type": "execute_result"
    }
   ],
   "source": [
    "import pandas as pd\n",
    "\n",
    "train = pd.read_csv(\"/kaggle/input/map-charting-student-math-misunderstandings/train.csv\")\n",
    "\n",
    "print(train.shape)\n",
    "train.head()"
   ]
  },
  {
   "cell_type": "markdown",
   "id": "188ce410",
   "metadata": {
    "papermill": {
     "duration": 0.002635,
     "end_time": "2025-10-17T17:38:37.810059",
     "exception": false,
     "start_time": "2025-10-17T17:38:37.807424",
     "status": "completed"
    },
    "tags": []
   },
   "source": [
    "**Dataset Overview**"
   ]
  },
  {
   "cell_type": "code",
   "execution_count": 3,
   "id": "f6c8537a",
   "metadata": {
    "execution": {
     "iopub.execute_input": "2025-10-17T17:38:37.817350Z",
     "iopub.status.busy": "2025-10-17T17:38:37.816384Z",
     "iopub.status.idle": "2025-10-17T17:38:37.851817Z",
     "shell.execute_reply": "2025-10-17T17:38:37.850677Z"
    },
    "papermill": {
     "duration": 0.040485,
     "end_time": "2025-10-17T17:38:37.853279",
     "exception": false,
     "start_time": "2025-10-17T17:38:37.812794",
     "status": "completed"
    },
    "tags": []
   },
   "outputs": [
    {
     "name": "stdout",
     "output_type": "stream",
     "text": [
      "<class 'pandas.core.frame.DataFrame'>\n",
      "RangeIndex: 36696 entries, 0 to 36695\n",
      "Data columns (total 7 columns):\n",
      " #   Column              Non-Null Count  Dtype \n",
      "---  ------              --------------  ----- \n",
      " 0   row_id              36696 non-null  int64 \n",
      " 1   QuestionId          36696 non-null  int64 \n",
      " 2   QuestionText        36696 non-null  object\n",
      " 3   MC_Answer           36696 non-null  object\n",
      " 4   StudentExplanation  36696 non-null  object\n",
      " 5   Category            36696 non-null  object\n",
      " 6   Misconception       9860 non-null   object\n",
      "dtypes: int64(2), object(5)\n",
      "memory usage: 2.0+ MB\n"
     ]
    }
   ],
   "source": [
    "train.info()"
   ]
  },
  {
   "cell_type": "markdown",
   "id": "f413e6df",
   "metadata": {
    "papermill": {
     "duration": 0.002739,
     "end_time": "2025-10-17T17:38:37.859182",
     "exception": false,
     "start_time": "2025-10-17T17:38:37.856443",
     "status": "completed"
    },
    "tags": []
   },
   "source": [
    "**Categorical Feature Summary**"
   ]
  },
  {
   "cell_type": "code",
   "execution_count": 4,
   "id": "db8562f9",
   "metadata": {
    "execution": {
     "iopub.execute_input": "2025-10-17T17:38:37.866562Z",
     "iopub.status.busy": "2025-10-17T17:38:37.865613Z",
     "iopub.status.idle": "2025-10-17T17:38:37.923753Z",
     "shell.execute_reply": "2025-10-17T17:38:37.922872Z"
    },
    "papermill": {
     "duration": 0.063412,
     "end_time": "2025-10-17T17:38:37.925395",
     "exception": false,
     "start_time": "2025-10-17T17:38:37.861983",
     "status": "completed"
    },
    "tags": []
   },
   "outputs": [
    {
     "data": {
      "text/html": [
       "<div>\n",
       "<style scoped>\n",
       "    .dataframe tbody tr th:only-of-type {\n",
       "        vertical-align: middle;\n",
       "    }\n",
       "\n",
       "    .dataframe tbody tr th {\n",
       "        vertical-align: top;\n",
       "    }\n",
       "\n",
       "    .dataframe thead th {\n",
       "        text-align: right;\n",
       "    }\n",
       "</style>\n",
       "<table border=\"1\" class=\"dataframe\">\n",
       "  <thead>\n",
       "    <tr style=\"text-align: right;\">\n",
       "      <th></th>\n",
       "      <th>QuestionText</th>\n",
       "      <th>MC_Answer</th>\n",
       "      <th>StudentExplanation</th>\n",
       "      <th>Category</th>\n",
       "      <th>Misconception</th>\n",
       "    </tr>\n",
       "  </thead>\n",
       "  <tbody>\n",
       "    <tr>\n",
       "      <th>count</th>\n",
       "      <td>36696</td>\n",
       "      <td>36696</td>\n",
       "      <td>36696</td>\n",
       "      <td>36696</td>\n",
       "      <td>9860</td>\n",
       "    </tr>\n",
       "    <tr>\n",
       "      <th>unique</th>\n",
       "      <td>15</td>\n",
       "      <td>49</td>\n",
       "      <td>35726</td>\n",
       "      <td>6</td>\n",
       "      <td>35</td>\n",
       "    </tr>\n",
       "    <tr>\n",
       "      <th>top</th>\n",
       "      <td>What fraction of the shape is not shaded? Give...</td>\n",
       "      <td>\\( \\frac{1}{3} \\)</td>\n",
       "      <td>i think this because 24 divided by 2 is 12</td>\n",
       "      <td>True_Correct</td>\n",
       "      <td>Incomplete</td>\n",
       "    </tr>\n",
       "    <tr>\n",
       "      <th>freq</th>\n",
       "      <td>4857</td>\n",
       "      <td>2599</td>\n",
       "      <td>21</td>\n",
       "      <td>14802</td>\n",
       "      <td>1454</td>\n",
       "    </tr>\n",
       "  </tbody>\n",
       "</table>\n",
       "</div>"
      ],
      "text/plain": [
       "                                             QuestionText          MC_Answer  \\\n",
       "count                                               36696              36696   \n",
       "unique                                                 15                 49   \n",
       "top     What fraction of the shape is not shaded? Give...  \\( \\frac{1}{3} \\)   \n",
       "freq                                                 4857               2599   \n",
       "\n",
       "                                StudentExplanation      Category Misconception  \n",
       "count                                        36696         36696          9860  \n",
       "unique                                       35726             6            35  \n",
       "top     i think this because 24 divided by 2 is 12  True_Correct    Incomplete  \n",
       "freq                                            21         14802          1454  "
      ]
     },
     "execution_count": 4,
     "metadata": {},
     "output_type": "execute_result"
    }
   ],
   "source": [
    "train.describe(include=\"object\")"
   ]
  },
  {
   "cell_type": "markdown",
   "id": "149b6b8f",
   "metadata": {
    "papermill": {
     "duration": 0.002698,
     "end_time": "2025-10-17T17:38:37.931271",
     "exception": false,
     "start_time": "2025-10-17T17:38:37.928573",
     "status": "completed"
    },
    "tags": []
   },
   "source": [
    "**Checking Missing Values**"
   ]
  },
  {
   "cell_type": "code",
   "execution_count": 5,
   "id": "40564502",
   "metadata": {
    "execution": {
     "iopub.execute_input": "2025-10-17T17:38:37.938938Z",
     "iopub.status.busy": "2025-10-17T17:38:37.938647Z",
     "iopub.status.idle": "2025-10-17T17:38:37.957938Z",
     "shell.execute_reply": "2025-10-17T17:38:37.957172Z"
    },
    "papermill": {
     "duration": 0.025399,
     "end_time": "2025-10-17T17:38:37.959508",
     "exception": false,
     "start_time": "2025-10-17T17:38:37.934109",
     "status": "completed"
    },
    "tags": []
   },
   "outputs": [
    {
     "data": {
      "text/plain": [
       "row_id                    0\n",
       "QuestionId                0\n",
       "QuestionText              0\n",
       "MC_Answer                 0\n",
       "StudentExplanation        0\n",
       "Category                  0\n",
       "Misconception         26836\n",
       "dtype: int64"
      ]
     },
     "execution_count": 5,
     "metadata": {},
     "output_type": "execute_result"
    }
   ],
   "source": [
    "train.isna().sum()"
   ]
  }
 ],
 "metadata": {
  "kaggle": {
   "accelerator": "none",
   "dataSources": [
    {
     "databundleVersionId": 12957508,
     "sourceId": 104383,
     "sourceType": "competition"
    }
   ],
   "dockerImageVersionId": 31153,
   "isGpuEnabled": false,
   "isInternetEnabled": true,
   "language": "python",
   "sourceType": "notebook"
  },
  "kernelspec": {
   "display_name": "Python 3",
   "language": "python",
   "name": "python3"
  },
  "language_info": {
   "codemirror_mode": {
    "name": "ipython",
    "version": 3
   },
   "file_extension": ".py",
   "mimetype": "text/x-python",
   "name": "python",
   "nbconvert_exporter": "python",
   "pygments_lexer": "ipython3",
   "version": "3.11.13"
  },
  "papermill": {
   "default_parameters": {},
   "duration": 12.90685,
   "end_time": "2025-10-17T17:38:38.482749",
   "environment_variables": {},
   "exception": null,
   "input_path": "__notebook__.ipynb",
   "output_path": "__notebook__.ipynb",
   "parameters": {},
   "start_time": "2025-10-17T17:38:25.575899",
   "version": "2.6.0"
  }
 },
 "nbformat": 4,
 "nbformat_minor": 5
}
