{
 "cells": [
  {
   "cell_type": "markdown",
   "id": "228b4dc1",
   "metadata": {
    "papermill": {
     "duration": 0.010485,
     "end_time": "2025-10-19T17:05:39.429050",
     "exception": false,
     "start_time": "2025-10-19T17:05:39.418565",
     "status": "completed"
    },
    "tags": []
   },
   "source": [
    "prepare the environment : "
   ]
  },
  {
   "cell_type": "code",
   "execution_count": 1,
   "id": "668346c0",
   "metadata": {
    "_cell_guid": "b1076dfc-b9ad-4769-8c92-a6c4dae69d19",
    "_uuid": "8f2839f25d086af736a60e9eeb907d3b93b6e0e5",
    "execution": {
     "iopub.execute_input": "2025-10-19T17:05:39.448203Z",
     "iopub.status.busy": "2025-10-19T17:05:39.447868Z",
     "iopub.status.idle": "2025-10-19T17:05:45.132457Z",
     "shell.execute_reply": "2025-10-19T17:05:45.131409Z"
    },
    "papermill": {
     "duration": 5.695789,
     "end_time": "2025-10-19T17:05:45.134178",
     "exception": false,
     "start_time": "2025-10-19T17:05:39.438389",
     "status": "completed"
    },
    "tags": []
   },
   "outputs": [
    {
     "name": "stdout",
     "output_type": "stream",
     "text": [
      "Requirement already satisfied: pandas in /usr/local/lib/python3.11/dist-packages (2.2.3)\r\n",
      "Requirement already satisfied: numpy in /usr/local/lib/python3.11/dist-packages (1.26.4)\r\n",
      "Requirement already satisfied: matplotlib in /usr/local/lib/python3.11/dist-packages (3.7.2)\r\n",
      "Requirement already satisfied: seaborn in /usr/local/lib/python3.11/dist-packages (0.12.2)\r\n",
      "Requirement already satisfied: python-dateutil>=2.8.2 in /usr/local/lib/python3.11/dist-packages (from pandas) (2.9.0.post0)\r\n",
      "Requirement already satisfied: pytz>=2020.1 in /usr/local/lib/python3.11/dist-packages (from pandas) (2025.2)\r\n",
      "Requirement already satisfied: tzdata>=2022.7 in /usr/local/lib/python3.11/dist-packages (from pandas) (2025.2)\r\n",
      "Requirement already satisfied: mkl_fft in /usr/local/lib/python3.11/dist-packages (from numpy) (1.3.8)\r\n",
      "Requirement already satisfied: mkl_random in /usr/local/lib/python3.11/dist-packages (from numpy) (1.2.4)\r\n",
      "Requirement already satisfied: mkl_umath in /usr/local/lib/python3.11/dist-packages (from numpy) (0.1.1)\r\n",
      "Requirement already satisfied: mkl in /usr/local/lib/python3.11/dist-packages (from numpy) (2025.2.0)\r\n",
      "Requirement already satisfied: tbb4py in /usr/local/lib/python3.11/dist-packages (from numpy) (2022.2.0)\r\n",
      "Requirement already satisfied: mkl-service in /usr/local/lib/python3.11/dist-packages (from numpy) (2.4.1)\r\n",
      "Requirement already satisfied: contourpy>=1.0.1 in /usr/local/lib/python3.11/dist-packages (from matplotlib) (1.3.2)\r\n",
      "Requirement already satisfied: cycler>=0.10 in /usr/local/lib/python3.11/dist-packages (from matplotlib) (0.12.1)\r\n",
      "Requirement already satisfied: fonttools>=4.22.0 in /usr/local/lib/python3.11/dist-packages (from matplotlib) (4.59.0)\r\n",
      "Requirement already satisfied: kiwisolver>=1.0.1 in /usr/local/lib/python3.11/dist-packages (from matplotlib) (1.4.8)\r\n",
      "Requirement already satisfied: packaging>=20.0 in /usr/local/lib/python3.11/dist-packages (from matplotlib) (25.0)\r\n",
      "Requirement already satisfied: pillow>=6.2.0 in /usr/local/lib/python3.11/dist-packages (from matplotlib) (11.3.0)\r\n",
      "Requirement already satisfied: pyparsing<3.1,>=2.3.1 in /usr/local/lib/python3.11/dist-packages (from matplotlib) (3.0.9)\r\n",
      "Requirement already satisfied: six>=1.5 in /usr/local/lib/python3.11/dist-packages (from python-dateutil>=2.8.2->pandas) (1.17.0)\r\n",
      "Requirement already satisfied: intel-openmp<2026,>=2024 in /usr/local/lib/python3.11/dist-packages (from mkl->numpy) (2024.2.0)\r\n",
      "Requirement already satisfied: tbb==2022.* in /usr/local/lib/python3.11/dist-packages (from mkl->numpy) (2022.2.0)\r\n",
      "Requirement already satisfied: tcmlib==1.* in /usr/local/lib/python3.11/dist-packages (from tbb==2022.*->mkl->numpy) (1.4.0)\r\n",
      "Requirement already satisfied: intel-cmplr-lib-rt in /usr/local/lib/python3.11/dist-packages (from mkl_umath->numpy) (2024.2.0)\r\n",
      "Requirement already satisfied: intel-cmplr-lib-ur==2024.2.0 in /usr/local/lib/python3.11/dist-packages (from intel-openmp<2026,>=2024->mkl->numpy) (2024.2.0)\r\n",
      "Note: you may need to restart the kernel to use updated packages.\n"
     ]
    }
   ],
   "source": [
    "pip install pandas numpy matplotlib seaborn"
   ]
  },
  {
   "cell_type": "markdown",
   "id": "2dacff92",
   "metadata": {
    "papermill": {
     "duration": 0.008513,
     "end_time": "2025-10-19T17:05:45.151570",
     "exception": false,
     "start_time": "2025-10-19T17:05:45.143057",
     "status": "completed"
    },
    "tags": []
   },
   "source": [
    "**data loading**"
   ]
  },
  {
   "cell_type": "code",
   "execution_count": 2,
   "id": "08f238d4",
   "metadata": {
    "execution": {
     "iopub.execute_input": "2025-10-19T17:05:45.170143Z",
     "iopub.status.busy": "2025-10-19T17:05:45.169763Z",
     "iopub.status.idle": "2025-10-19T17:05:47.514571Z",
     "shell.execute_reply": "2025-10-19T17:05:47.513674Z"
    },
    "papermill": {
     "duration": 2.356132,
     "end_time": "2025-10-19T17:05:47.516163",
     "exception": false,
     "start_time": "2025-10-19T17:05:45.160031",
     "status": "completed"
    },
    "tags": []
   },
   "outputs": [
    {
     "name": "stdout",
     "output_type": "stream",
     "text": [
      "(36696, 7)\n"
     ]
    },
    {
     "data": {
      "text/html": [
       "<div>\n",
       "<style scoped>\n",
       "    .dataframe tbody tr th:only-of-type {\n",
       "        vertical-align: middle;\n",
       "    }\n",
       "\n",
       "    .dataframe tbody tr th {\n",
       "        vertical-align: top;\n",
       "    }\n",
       "\n",
       "    .dataframe thead th {\n",
       "        text-align: right;\n",
       "    }\n",
       "</style>\n",
       "<table border=\"1\" class=\"dataframe\">\n",
       "  <thead>\n",
       "    <tr style=\"text-align: right;\">\n",
       "      <th></th>\n",
       "      <th>row_id</th>\n",
       "      <th>QuestionId</th>\n",
       "      <th>QuestionText</th>\n",
       "      <th>MC_Answer</th>\n",
       "      <th>StudentExplanation</th>\n",
       "      <th>Category</th>\n",
       "      <th>Misconception</th>\n",
       "    </tr>\n",
       "  </thead>\n",
       "  <tbody>\n",
       "    <tr>\n",
       "      <th>0</th>\n",
       "      <td>0</td>\n",
       "      <td>31772</td>\n",
       "      <td>What fraction of the shape is not shaded? Give...</td>\n",
       "      <td>\\( \\frac{1}{3} \\)</td>\n",
       "      <td>0ne third is equal to tree nineth</td>\n",
       "      <td>True_Correct</td>\n",
       "      <td>NaN</td>\n",
       "    </tr>\n",
       "    <tr>\n",
       "      <th>1</th>\n",
       "      <td>1</td>\n",
       "      <td>31772</td>\n",
       "      <td>What fraction of the shape is not shaded? Give...</td>\n",
       "      <td>\\( \\frac{1}{3} \\)</td>\n",
       "      <td>1 / 3 because 6 over 9 is 2 thirds and 1 third...</td>\n",
       "      <td>True_Correct</td>\n",
       "      <td>NaN</td>\n",
       "    </tr>\n",
       "    <tr>\n",
       "      <th>2</th>\n",
       "      <td>2</td>\n",
       "      <td>31772</td>\n",
       "      <td>What fraction of the shape is not shaded? Give...</td>\n",
       "      <td>\\( \\frac{1}{3} \\)</td>\n",
       "      <td>1 3rd is half of 3 6th, so it is simplee to un...</td>\n",
       "      <td>True_Neither</td>\n",
       "      <td>NaN</td>\n",
       "    </tr>\n",
       "    <tr>\n",
       "      <th>3</th>\n",
       "      <td>3</td>\n",
       "      <td>31772</td>\n",
       "      <td>What fraction of the shape is not shaded? Give...</td>\n",
       "      <td>\\( \\frac{1}{3} \\)</td>\n",
       "      <td>1 goes into everything and 3 goes into nine</td>\n",
       "      <td>True_Neither</td>\n",
       "      <td>NaN</td>\n",
       "    </tr>\n",
       "    <tr>\n",
       "      <th>4</th>\n",
       "      <td>4</td>\n",
       "      <td>31772</td>\n",
       "      <td>What fraction of the shape is not shaded? Give...</td>\n",
       "      <td>\\( \\frac{1}{3} \\)</td>\n",
       "      <td>1 out of every 3 isn't coloured</td>\n",
       "      <td>True_Correct</td>\n",
       "      <td>NaN</td>\n",
       "    </tr>\n",
       "  </tbody>\n",
       "</table>\n",
       "</div>"
      ],
      "text/plain": [
       "   row_id  QuestionId                                       QuestionText  \\\n",
       "0       0       31772  What fraction of the shape is not shaded? Give...   \n",
       "1       1       31772  What fraction of the shape is not shaded? Give...   \n",
       "2       2       31772  What fraction of the shape is not shaded? Give...   \n",
       "3       3       31772  What fraction of the shape is not shaded? Give...   \n",
       "4       4       31772  What fraction of the shape is not shaded? Give...   \n",
       "\n",
       "           MC_Answer                                 StudentExplanation  \\\n",
       "0  \\( \\frac{1}{3} \\)                  0ne third is equal to tree nineth   \n",
       "1  \\( \\frac{1}{3} \\)  1 / 3 because 6 over 9 is 2 thirds and 1 third...   \n",
       "2  \\( \\frac{1}{3} \\)  1 3rd is half of 3 6th, so it is simplee to un...   \n",
       "3  \\( \\frac{1}{3} \\)        1 goes into everything and 3 goes into nine   \n",
       "4  \\( \\frac{1}{3} \\)                    1 out of every 3 isn't coloured   \n",
       "\n",
       "       Category Misconception  \n",
       "0  True_Correct           NaN  \n",
       "1  True_Correct           NaN  \n",
       "2  True_Neither           NaN  \n",
       "3  True_Neither           NaN  \n",
       "4  True_Correct           NaN  "
      ]
     },
     "execution_count": 2,
     "metadata": {},
     "output_type": "execute_result"
    }
   ],
   "source": [
    "import pandas as pd\n",
    "\n",
    "train = pd.read_csv(\"/kaggle/input/map-charting-student-math-misunderstandings/train.csv\")\n",
    "\n",
    "print(train.shape)\n",
    "train.head()"
   ]
  },
  {
   "cell_type": "markdown",
   "id": "0fbf56cb",
   "metadata": {
    "papermill": {
     "duration": 0.00862,
     "end_time": "2025-10-19T17:05:47.533923",
     "exception": false,
     "start_time": "2025-10-19T17:05:47.525303",
     "status": "completed"
    },
    "tags": []
   },
   "source": [
    "**Dataset Overview**"
   ]
  },
  {
   "cell_type": "code",
   "execution_count": 3,
   "id": "0f3330b4",
   "metadata": {
    "execution": {
     "iopub.execute_input": "2025-10-19T17:05:47.553586Z",
     "iopub.status.busy": "2025-10-19T17:05:47.552921Z",
     "iopub.status.idle": "2025-10-19T17:05:47.589689Z",
     "shell.execute_reply": "2025-10-19T17:05:47.588600Z"
    },
    "papermill": {
     "duration": 0.048039,
     "end_time": "2025-10-19T17:05:47.591108",
     "exception": false,
     "start_time": "2025-10-19T17:05:47.543069",
     "status": "completed"
    },
    "tags": []
   },
   "outputs": [
    {
     "name": "stdout",
     "output_type": "stream",
     "text": [
      "<class 'pandas.core.frame.DataFrame'>\n",
      "RangeIndex: 36696 entries, 0 to 36695\n",
      "Data columns (total 7 columns):\n",
      " #   Column              Non-Null Count  Dtype \n",
      "---  ------              --------------  ----- \n",
      " 0   row_id              36696 non-null  int64 \n",
      " 1   QuestionId          36696 non-null  int64 \n",
      " 2   QuestionText        36696 non-null  object\n",
      " 3   MC_Answer           36696 non-null  object\n",
      " 4   StudentExplanation  36696 non-null  object\n",
      " 5   Category            36696 non-null  object\n",
      " 6   Misconception       9860 non-null   object\n",
      "dtypes: int64(2), object(5)\n",
      "memory usage: 2.0+ MB\n"
     ]
    }
   ],
   "source": [
    "train.info()"
   ]
  },
  {
   "cell_type": "markdown",
   "id": "91c790aa",
   "metadata": {
    "papermill": {
     "duration": 0.009012,
     "end_time": "2025-10-19T17:05:47.609510",
     "exception": false,
     "start_time": "2025-10-19T17:05:47.600498",
     "status": "completed"
    },
    "tags": []
   },
   "source": [
    "**Categorical Feature Summary**"
   ]
  },
  {
   "cell_type": "code",
   "execution_count": 4,
   "id": "56aefcf9",
   "metadata": {
    "execution": {
     "iopub.execute_input": "2025-10-19T17:05:47.628881Z",
     "iopub.status.busy": "2025-10-19T17:05:47.628538Z",
     "iopub.status.idle": "2025-10-19T17:05:47.690268Z",
     "shell.execute_reply": "2025-10-19T17:05:47.689308Z"
    },
    "papermill": {
     "duration": 0.073408,
     "end_time": "2025-10-19T17:05:47.691850",
     "exception": false,
     "start_time": "2025-10-19T17:05:47.618442",
     "status": "completed"
    },
    "tags": []
   },
   "outputs": [
    {
     "data": {
      "text/html": [
       "<div>\n",
       "<style scoped>\n",
       "    .dataframe tbody tr th:only-of-type {\n",
       "        vertical-align: middle;\n",
       "    }\n",
       "\n",
       "    .dataframe tbody tr th {\n",
       "        vertical-align: top;\n",
       "    }\n",
       "\n",
       "    .dataframe thead th {\n",
       "        text-align: right;\n",
       "    }\n",
       "</style>\n",
       "<table border=\"1\" class=\"dataframe\">\n",
       "  <thead>\n",
       "    <tr style=\"text-align: right;\">\n",
       "      <th></th>\n",
       "      <th>QuestionText</th>\n",
       "      <th>MC_Answer</th>\n",
       "      <th>StudentExplanation</th>\n",
       "      <th>Category</th>\n",
       "      <th>Misconception</th>\n",
       "    </tr>\n",
       "  </thead>\n",
       "  <tbody>\n",
       "    <tr>\n",
       "      <th>count</th>\n",
       "      <td>36696</td>\n",
       "      <td>36696</td>\n",
       "      <td>36696</td>\n",
       "      <td>36696</td>\n",
       "      <td>9860</td>\n",
       "    </tr>\n",
       "    <tr>\n",
       "      <th>unique</th>\n",
       "      <td>15</td>\n",
       "      <td>49</td>\n",
       "      <td>35726</td>\n",
       "      <td>6</td>\n",
       "      <td>35</td>\n",
       "    </tr>\n",
       "    <tr>\n",
       "      <th>top</th>\n",
       "      <td>What fraction of the shape is not shaded? Give...</td>\n",
       "      <td>\\( \\frac{1}{3} \\)</td>\n",
       "      <td>i think this because 24 divided by 2 is 12</td>\n",
       "      <td>True_Correct</td>\n",
       "      <td>Incomplete</td>\n",
       "    </tr>\n",
       "    <tr>\n",
       "      <th>freq</th>\n",
       "      <td>4857</td>\n",
       "      <td>2599</td>\n",
       "      <td>21</td>\n",
       "      <td>14802</td>\n",
       "      <td>1454</td>\n",
       "    </tr>\n",
       "  </tbody>\n",
       "</table>\n",
       "</div>"
      ],
      "text/plain": [
       "                                             QuestionText          MC_Answer  \\\n",
       "count                                               36696              36696   \n",
       "unique                                                 15                 49   \n",
       "top     What fraction of the shape is not shaded? Give...  \\( \\frac{1}{3} \\)   \n",
       "freq                                                 4857               2599   \n",
       "\n",
       "                                StudentExplanation      Category Misconception  \n",
       "count                                        36696         36696          9860  \n",
       "unique                                       35726             6            35  \n",
       "top     i think this because 24 divided by 2 is 12  True_Correct    Incomplete  \n",
       "freq                                            21         14802          1454  "
      ]
     },
     "execution_count": 4,
     "metadata": {},
     "output_type": "execute_result"
    }
   ],
   "source": [
    "train.describe(include=\"object\")"
   ]
  },
  {
   "cell_type": "markdown",
   "id": "ffe89195",
   "metadata": {
    "papermill": {
     "duration": 0.008992,
     "end_time": "2025-10-19T17:05:47.710720",
     "exception": false,
     "start_time": "2025-10-19T17:05:47.701728",
     "status": "completed"
    },
    "tags": []
   },
   "source": [
    "**Checking Missing Values**"
   ]
  },
  {
   "cell_type": "code",
   "execution_count": 5,
   "id": "cea001ea",
   "metadata": {
    "execution": {
     "iopub.execute_input": "2025-10-19T17:05:47.730110Z",
     "iopub.status.busy": "2025-10-19T17:05:47.729393Z",
     "iopub.status.idle": "2025-10-19T17:05:47.747839Z",
     "shell.execute_reply": "2025-10-19T17:05:47.746982Z"
    },
    "papermill": {
     "duration": 0.029701,
     "end_time": "2025-10-19T17:05:47.749260",
     "exception": false,
     "start_time": "2025-10-19T17:05:47.719559",
     "status": "completed"
    },
    "tags": []
   },
   "outputs": [
    {
     "data": {
      "text/plain": [
       "row_id                    0\n",
       "QuestionId                0\n",
       "QuestionText              0\n",
       "MC_Answer                 0\n",
       "StudentExplanation        0\n",
       "Category                  0\n",
       "Misconception         26836\n",
       "dtype: int64"
      ]
     },
     "execution_count": 5,
     "metadata": {},
     "output_type": "execute_result"
    }
   ],
   "source": [
    "train.isna().sum()"
   ]
  },
  {
   "cell_type": "markdown",
   "id": "97cabc02",
   "metadata": {
    "papermill": {
     "duration": 0.009228,
     "end_time": "2025-10-19T17:05:47.767889",
     "exception": false,
     "start_time": "2025-10-19T17:05:47.758661",
     "status": "completed"
    },
    "tags": []
   },
   "source": [
    "**Check for Duplicate Rows**"
   ]
  },
  {
   "cell_type": "code",
   "execution_count": 6,
   "id": "8747241e",
   "metadata": {
    "execution": {
     "iopub.execute_input": "2025-10-19T17:05:47.789292Z",
     "iopub.status.busy": "2025-10-19T17:05:47.789000Z",
     "iopub.status.idle": "2025-10-19T17:05:47.823917Z",
     "shell.execute_reply": "2025-10-19T17:05:47.822989Z"
    },
    "papermill": {
     "duration": 0.048324,
     "end_time": "2025-10-19T17:05:47.825431",
     "exception": false,
     "start_time": "2025-10-19T17:05:47.777107",
     "status": "completed"
    },
    "tags": []
   },
   "outputs": [
    {
     "data": {
      "text/plain": [
       "False"
      ]
     },
     "execution_count": 6,
     "metadata": {},
     "output_type": "execute_result"
    }
   ],
   "source": [
    "train.duplicated().any()"
   ]
  },
  {
   "cell_type": "markdown",
   "id": "467acf6d",
   "metadata": {
    "papermill": {
     "duration": 0.009057,
     "end_time": "2025-10-19T17:05:47.843921",
     "exception": false,
     "start_time": "2025-10-19T17:05:47.834864",
     "status": "completed"
    },
    "tags": []
   },
   "source": [
    "**Analyse target (Misconception)**"
   ]
  },
  {
   "cell_type": "code",
   "execution_count": 7,
   "id": "87bf2e9a",
   "metadata": {
    "execution": {
     "iopub.execute_input": "2025-10-19T17:05:47.864331Z",
     "iopub.status.busy": "2025-10-19T17:05:47.863659Z",
     "iopub.status.idle": "2025-10-19T17:05:50.520085Z",
     "shell.execute_reply": "2025-10-19T17:05:50.519100Z"
    },
    "papermill": {
     "duration": 2.669037,
     "end_time": "2025-10-19T17:05:50.522438",
     "exception": false,
     "start_time": "2025-10-19T17:05:47.853401",
     "status": "completed"
    },
    "tags": []
   },
   "outputs": [
    {
     "data": {
      "image/png": "[encoded data removed]",
      "text/plain": [
       "<Figure size 1000x600 with 1 Axes>"
      ]
     },
     "metadata": {},
     "output_type": "display_data"
    }
   ],
   "source": [
    "import seaborn as sns\n",
    "import matplotlib.pyplot as plt\n",
    "\n",
    "labeled = train[~train[\"Misconception\"].isna()]\n",
    "plt.figure(figsize=(10,6))\n",
    "sns.countplot(y=labeled[\"Misconception\"], order=labeled[\"Misconception\"].value_counts().index)\n",
    "plt.title(\"Distribution of Misconceptions\")\n",
    "plt.show()"
   ]
  },
  {
   "cell_type": "markdown",
   "id": "6feaf18f",
   "metadata": {
    "papermill": {
     "duration": 0.01185,
     "end_time": "2025-10-19T17:05:50.546214",
     "exception": false,
     "start_time": "2025-10-19T17:05:50.534364",
     "status": "completed"
    },
    "tags": []
   },
   "source": [
    "Here, the most frequent misconception is Incomplete. Let’s examine how the Incomplete misconception appears and analyze its distribution across categories."
   ]
  },
  {
   "cell_type": "code",
   "execution_count": 8,
   "id": "2a32ca94",
   "metadata": {
    "execution": {
     "iopub.execute_input": "2025-10-19T17:05:50.569989Z",
     "iopub.status.busy": "2025-10-19T17:05:50.569473Z",
     "iopub.status.idle": "2025-10-19T17:05:50.723996Z",
     "shell.execute_reply": "2025-10-19T17:05:50.722871Z"
    },
    "papermill": {
     "duration": 0.16825,
     "end_time": "2025-10-19T17:05:50.725690",
     "exception": false,
     "start_time": "2025-10-19T17:05:50.557440",
     "status": "completed"
    },
    "tags": []
   },
   "outputs": [
    {
     "data": {
      "image/png": "[encoded data removed]",
      "text/plain": [
       "<Figure size 800x500 with 1 Axes>"
      ]
     },
     "metadata": {},
     "output_type": "display_data"
    }
   ],
   "source": [
    "incomplete = train[train[\"Misconception\"] == \"Incomplete\"]\n",
    "\n",
    "plt.figure(figsize=(8,5))\n",
    "sns.countplot(x=incomplete[\"Category\"], order=incomplete[\"Category\"].value_counts().index)\n",
    "plt.title(\"Distribution of Categories for Misconception = Incomplete\")\n",
    "plt.xlabel(\"Category\")\n",
    "plt.ylabel(\"Count\")\n",
    "plt.show()"
   ]
  },
  {
   "cell_type": "code",
   "execution_count": 9,
   "id": "3269311b",
   "metadata": {
    "execution": {
     "iopub.execute_input": "2025-10-19T17:05:50.751641Z",
     "iopub.status.busy": "2025-10-19T17:05:50.750729Z",
     "iopub.status.idle": "2025-10-19T17:05:50.760521Z",
     "shell.execute_reply": "2025-10-19T17:05:50.759421Z"
    },
    "papermill": {
     "duration": 0.023999,
     "end_time": "2025-10-19T17:05:50.762065",
     "exception": false,
     "start_time": "2025-10-19T17:05:50.738066",
     "status": "completed"
    },
    "tags": []
   },
   "outputs": [
    {
     "name": "stdout",
     "output_type": "stream",
     "text": [
      "Category\n",
      "False_Misconception    1446\n",
      "True_Misconception        8\n",
      "Name: count, dtype: int64\n"
     ]
    }
   ],
   "source": [
    "incomplete = train[train[\"Misconception\"] == \"Incomplete\"]\n",
    "\n",
    "category_counts = incomplete[\"Category\"].value_counts()\n",
    "print(category_counts)"
   ]
  },
  {
   "cell_type": "markdown",
   "id": "8d6a1d62",
   "metadata": {
    "papermill": {
     "duration": 0.011751,
     "end_time": "2025-10-19T17:05:50.785222",
     "exception": false,
     "start_time": "2025-10-19T17:05:50.773471",
     "status": "completed"
    },
    "tags": []
   },
   "source": [
    "Most Incomplete misconceptions are labeled False_Misconception, with only a few True_Misconception entries, which is logical"
   ]
  },
  {
   "cell_type": "markdown",
   "id": "4dc7084a",
   "metadata": {
    "papermill": {
     "duration": 0.011186,
     "end_time": "2025-10-19T17:05:50.810041",
     "exception": false,
     "start_time": "2025-10-19T17:05:50.798855",
     "status": "completed"
    },
    "tags": []
   },
   "source": [
    "**Examine Top Questions and Answers (False_Misconception) for Incomplete**"
   ]
  },
  {
   "cell_type": "markdown",
   "id": "ce0f242c",
   "metadata": {
    "papermill": {
     "duration": 0.011341,
     "end_time": "2025-10-19T17:05:50.833077",
     "exception": false,
     "start_time": "2025-10-19T17:05:50.821736",
     "status": "completed"
    },
    "tags": []
   },
   "source": [
    "Now, we focus on the top questions and top answers that are labeled as False_Misconception within the Incomplete misconception.\n",
    "\n",
    "This helps us understand which questions students commonly get wrong without it being a true misconception and what specific answers are incorrect, providing insights for feature analysis and modeling."
   ]
  },
  {
   "cell_type": "code",
   "execution_count": 10,
   "id": "b59aec69",
   "metadata": {
    "execution": {
     "iopub.execute_input": "2025-10-19T17:05:50.857556Z",
     "iopub.status.busy": "2025-10-19T17:05:50.857204Z",
     "iopub.status.idle": "2025-10-19T17:05:50.871378Z",
     "shell.execute_reply": "2025-10-19T17:05:50.870268Z"
    },
    "papermill": {
     "duration": 0.028567,
     "end_time": "2025-10-19T17:05:50.872980",
     "exception": false,
     "start_time": "2025-10-19T17:05:50.844413",
     "status": "completed"
    },
    "tags": []
   },
   "outputs": [
    {
     "name": "stdout",
     "output_type": "stream",
     "text": [
      "QuestionId: 31772\n",
      "QuestionText: What fraction of the shape is not shaded? Give your answer in its simplest form. [Image: A triangle split into 9 equal smaller triangles. 6 of them are shaded.]\n",
      "\n",
      "QuestionId: 31777\n",
      "QuestionText: A box contains \\( 120 \\) counters. The counters are red or blue. \\( \\frac{3}{5} \\) of the counters are red.\n",
      "How many red counters are there?\n",
      "\n",
      "QuestionId: 33471\n",
      "QuestionText: A bag contains \\( 24 \\) yellow and green balls. \\( \\frac{3}{8} \\) of the balls are yellow. How many of the balls are green?\n",
      "\n"
     ]
    }
   ],
   "source": [
    "incomplete_false = incomplete[incomplete[\"Category\"] == \"False_Misconception\"]\n",
    "top_ids = incomplete_false[\"QuestionId\"].value_counts().head(10).index\n",
    "top_questions = incomplete_false[incomplete_false[\"QuestionId\"].isin(top_ids)][[\"QuestionId\", \"QuestionText\"]].drop_duplicates()\n",
    "\n",
    "for i, row in top_questions.iterrows():\n",
    "    print(f\"QuestionId: {row['QuestionId']}\\nQuestionText: {row['QuestionText']}\\n\")"
   ]
  },
  {
   "cell_type": "code",
   "execution_count": 11,
   "id": "07010af7",
   "metadata": {
    "execution": {
     "iopub.execute_input": "2025-10-19T17:05:50.897939Z",
     "iopub.status.busy": "2025-10-19T17:05:50.897209Z",
     "iopub.status.idle": "2025-10-19T17:05:50.905242Z",
     "shell.execute_reply": "2025-10-19T17:05:50.904317Z"
    },
    "papermill": {
     "duration": 0.022273,
     "end_time": "2025-10-19T17:05:50.906938",
     "exception": false,
     "start_time": "2025-10-19T17:05:50.884665",
     "status": "completed"
    },
    "tags": []
   },
   "outputs": [
    {
     "name": "stdout",
     "output_type": "stream",
     "text": [
      "1: 9 triangles in total and 3 are not shaded and 6 are.\n",
      "\n",
      "2: Because there are 3 triangles not shaded in.\n",
      "\n",
      "3: Because there are 6 spaces shaded out of 9 which leaves 3 spaces unshaded\n",
      "\n",
      "4: Because three pieces are not shaded in\n",
      "\n",
      "5: I think this because if the triangle is shading out of 9,and 3 are left,it has to be 3 over 9.\n",
      "\n",
      "6: Only three is not shaded in and there is 9 in total.\n",
      "\n",
      "7: The holder is 6 and is only 1 6 holder\n",
      "\n",
      "8: There are 9 triangles and 3 are not shaded .you can not simplify three nineths so that is the answer\n",
      "\n",
      "9: There are 9 triangles and 6 are shaded witch means there’s 3 non shaded\n",
      "\n",
      "10: There are 9 triangles in totak and 3 are not shaded and 6 are.\n",
      "\n",
      "11: because there are 6 triangles shaded and there are 9 all together\n",
      "\n",
      "12: i think this because if the triangle is shading out of 9,and 3 are left it has to be 3 over 9\n",
      "\n",
      "13: only three is not shaded in and there is 9 in toatle\n",
      "\n",
      "14: there are 6 spaces shaded out of 9 which leaves 3 spaces unshaded\n",
      "\n",
      "15: there are 6 spaces shadedd out of 9 which leaves 3 spaces unshaded\n",
      "\n",
      "16: there are 9 triangles and 3 are not shaded so the answer is 39.\n",
      "\n",
      "17: there are 9 triangles and 3 are not shaded. you can not simplify three nineths so that is the answer.\n",
      "\n",
      "18: there are 9 triangles and 3 not shaded so the answer is 3\\9\n",
      "\n",
      "19: there are 9 triangles and 6 are shaded witch means there’s 3 non-shaded.\n",
      "\n",
      "20: 3/9 because there is 9 triangles and three are not shaded so the answer =D\n",
      "\n",
      "21: I think the because count all the white and blue which is 9 then 3 are shaded\n",
      "\n",
      "22: I think this because if you numerator is 3 your denominator will have to be 9 so your answer will be 3/9\n",
      "\n",
      "23: I think this is because if your numerator is 3, your denominator willl have to be 9, so your answer will be 3/9.\n",
      "\n",
      "24: 1 whole 9/9 the triangles which are not shaded is 3/9\n",
      "\n",
      "25: 1 whole 9/9 the triangles which are not shaded is 3/9.\n",
      "\n",
      "26: 3  not coloured in all together 9\n",
      "\n",
      "27: 3 are not shaded and 9 pieces in total.\n",
      "\n",
      "28: 3 are not shaded and there are 9 peases\n",
      "\n",
      "29: 3 are not shaded and there are 9 peases.\n",
      "\n",
      "30: 3 are not shaded in and the rest are shaded which means it would be d\n",
      "\n",
      "31: 3 are not shaded out of 9\n",
      "\n",
      "32: 3 are not shaded out of 9.\n",
      "\n",
      "33: 3 are not shaded out of a total of 9 triangles.\n",
      "\n",
      "34: 3 are shaded out of the 9 total shape.\n",
      "\n",
      "35: 3 aren’t shaded and there are 9 triangles\n",
      "\n",
      "36: 3 is not shaded and 9 triangles are there altogether\n",
      "\n",
      "37: 3 is shaded and it is out of 9.\n",
      "\n",
      "38: 3 is shaded out of nine\n",
      "\n",
      "39: 3 not coliured in all together 9\n",
      "\n",
      "40: 3 not shaded \n",
      "9 squares all together\n",
      "\n",
      "41: 3 not shaded 9 squares all together.\n",
      "\n",
      "42: 3 not shaded and the total is 9\n",
      "\n",
      "43: 3 of the 9 triangles are not shaded\n",
      "\n",
      "44: 3 of the 9 triangles aren't coloured in so that equals 3/9\n",
      "\n",
      "45: 3 of the 9 triangles aren't coloured in so that equals 3/9.\n",
      "\n",
      "46: 3 of the triangles are not blue\n",
      "\n",
      "47: 3 of the triangles are not shaded and 6 of them are, all together it adds up to 9.\n",
      "\n",
      "48: 3 of the triangles are not shaded and there are 9 triangles all together\n",
      "\n",
      "49: 3 of them are not shaded and also it is 9 triangles inside the tryangle\n",
      "\n",
      "50: 3 of them are not shaded out of the nine.\n",
      "\n",
      "51: 3 of them aren't shaded and there are 9 boxes (3 in 9 = 3/9\n",
      "\n",
      "52: 3 out of 9 are not shaded\n",
      "\n",
      "53: 3 out of 9 are not shaded\n",
      "\n",
      "54: 3 out of 9 are not shaded\n",
      "\n",
      "55: 3 out of 9 are not shaded\n",
      "\n",
      "56: 3 out of 9 are not shaded\n",
      "\n",
      "57: 3 out of 9 are not shaded\n",
      "\n",
      "58: 3 out of 9 are not shaded\n",
      "\n",
      "59: 3 out of 9 are not shaded\n",
      "\n",
      "60: 3 out of 9 arent shaded\n",
      "\n",
      "61: 3 out of 9 arent shaded\n",
      "\n",
      "62: 3 out of 9 triangles are not shaded\n",
      "\n",
      "63: 3 out of Nine parts are not shaded\n",
      "\n",
      "64: 3 out of the 9 are not shaded\n",
      "\n",
      "65: 3 out of the nine triangles are not shaded\n",
      "\n",
      "66: 3 out of the nine triangless are not shaded\n",
      "\n",
      "67: 3 out of thee 9 are not shaded\n",
      "\n",
      "68: 3 parts ant saded and thers 9 all to gefer\n",
      "\n",
      "69: 3 parts aren't shaded out of a total of 9\n",
      "\n",
      "70: 3 sections are not shaped and there are 9 parts overall.\n",
      "\n",
      "71: 3 triangles are not shaded and it is out of 9 so 3/9\n",
      "\n",
      "72: 3 triangles are not shaded and it is outt of 9 so 3/9.\n",
      "\n",
      "73: 3 triangles are not shaded but 9 are\n",
      "\n",
      "74: 3 triangles are white and all are 9 so 3/9\n",
      "\n",
      "75: 3 triangles are white and all are 9 so 3/9.\n",
      "\n",
      "76: 3 white triangles and 9 triangle all together\n",
      "\n",
      "77: 3 white triangles and 9 triangle alll together.\n",
      "\n",
      "78: 3/9 . I got this by simply counting\n",
      "\n",
      "79: 3/9 Because  when i counted the triangle and i counted 9 that are shaded and 3 not shaded\n",
      "\n",
      "80: 3/9 because 3 triangles are not shaded and there are 9 triangles, so its 3 out of 9.\n",
      "\n",
      "81: 3/9 because by counting the non shaded and all of the boxes together it gives me 3/9\n",
      "\n",
      "82: 3/9 because by counting the non shaded boxes and all of the boxes together it gives me 3 / 9.\n",
      "\n",
      "83: 3/9 because even though the top one is shaded dark blue\n",
      "\n",
      "84: 3/9 because even though the top one is shaded dark blue\n",
      "\n",
      "85: 3/9 because there are 9 triangles and 3 are not shaded\n",
      "\n",
      "86: 3/9 because there is 9 parts and 3 are not shaded\n",
      "\n",
      "87: 3/9 because there is 9 partss and 3 are not shaded\n",
      "\n",
      "88: 3/9 because there is 9 triangles and 3 are not shaded\n",
      "\n",
      "89: 3/9 because you can not simplify 3/9\n",
      "\n",
      "90: 3/9 is so difficult to simplify that even a child can not understand it.\n",
      "\n",
      "91: 3parts are not shaded amd the other 6 are, so 3 plus 6= 9 3/9.\n",
      "\n",
      "92: 3parts are not shaded and the other 6 are, so 3 plus 6= 9 3/9\n",
      "\n",
      "93: 5+3+1=9 and there is 3 unshaded so 3\n",
      "                                                                   -\n",
      "                                                                   9\n",
      "\n",
      "94: 5+3+1=9 and there is 3 unshaded so 3 - 9.\n",
      "\n",
      "95: 6/9 is shaded therefore 3 must be left so the answer is 3/9\n",
      "\n",
      "96: 6/9 is shaded therefore 3 must be left therefore the answer is 3/9.\n",
      "\n",
      "97: 6/9 of the shape is shaded so you do 9/9-6/9 which gives you 3/9\n",
      "\n",
      "98: 9 all thougher and there is 3 not shading in so it is 3/9\n",
      "\n",
      "99: 9 all together and 3 aren’t shaded\n",
      "\n",
      "100: 9 parts 3 are not shaded in\n",
      "\n"
     ]
    }
   ],
   "source": [
    "incomplete_false = incomplete[incomplete[\"Category\"] == \"False_Misconception\"]\n",
    "\n",
    "for i, explanation in enumerate(incomplete_false[\"StudentExplanation\"][:100], 1):\n",
    "    print(f\"{i}: {explanation}\\n\")"
   ]
  },
  {
   "cell_type": "markdown",
   "id": "223ab4c9",
   "metadata": {
    "papermill": {
     "duration": 0.011831,
     "end_time": "2025-10-19T17:05:50.930571",
     "exception": false,
     "start_time": "2025-10-19T17:05:50.918740",
     "status": "completed"
    },
    "tags": []
   },
   "source": [
    "We notice that many answers are exactly the same or very similar, which shows that students either express the same idea in different ways or may be copying each other."
   ]
  },
  {
   "cell_type": "markdown",
   "id": "aebb76cb",
   "metadata": {
    "papermill": {
     "duration": 0.01152,
     "end_time": "2025-10-19T17:05:50.954015",
     "exception": false,
     "start_time": "2025-10-19T17:05:50.942495",
     "status": "completed"
    },
    "tags": []
   },
   "source": [
    "**Analyse categorical features :**"
   ]
  },
  {
   "cell_type": "markdown",
   "id": "1f439369",
   "metadata": {
    "papermill": {
     "duration": 0.011449,
     "end_time": "2025-10-19T17:05:50.977425",
     "exception": false,
     "start_time": "2025-10-19T17:05:50.965976",
     "status": "completed"
    },
    "tags": []
   },
   "source": [
    "**Category distribution**"
   ]
  },
  {
   "cell_type": "code",
   "execution_count": 12,
   "id": "c9d6f15d",
   "metadata": {
    "execution": {
     "iopub.execute_input": "2025-10-19T17:05:51.002663Z",
     "iopub.status.busy": "2025-10-19T17:05:51.002373Z",
     "iopub.status.idle": "2025-10-19T17:05:51.175490Z",
     "shell.execute_reply": "2025-10-19T17:05:51.174649Z"
    },
    "papermill": {
     "duration": 0.187836,
     "end_time": "2025-10-19T17:05:51.177047",
     "exception": false,
     "start_time": "2025-10-19T17:05:50.989211",
     "status": "completed"
    },
    "tags": []
   },
   "outputs": [
    {
     "data": {
      "image/png": "[encoded data removed]",
      "text/plain": [
       "<Figure size 640x480 with 1 Axes>"
      ]
     },
     "metadata": {},
     "output_type": "display_data"
    }
   ],
   "source": [
    "sns.countplot(y=train[\"Category\"], order=train[\"Category\"].value_counts().index)\n",
    "plt.title(\"Distribution of Categories\")\n",
    "plt.show()"
   ]
  },
  {
   "cell_type": "markdown",
   "id": "6c979fdf",
   "metadata": {
    "papermill": {
     "duration": 0.013129,
     "end_time": "2025-10-19T17:05:51.203081",
     "exception": false,
     "start_time": "2025-10-19T17:05:51.189952",
     "status": "completed"
    },
    "tags": []
   },
   "source": [
    "**Proportion of Correct vs Incorrect Responses**"
   ]
  },
  {
   "cell_type": "code",
   "execution_count": 13,
   "id": "ab96ba3e",
   "metadata": {
    "execution": {
     "iopub.execute_input": "2025-10-19T17:05:51.230932Z",
     "iopub.status.busy": "2025-10-19T17:05:51.230606Z",
     "iopub.status.idle": "2025-10-19T17:05:51.394234Z",
     "shell.execute_reply": "2025-10-19T17:05:51.393386Z"
    },
    "papermill": {
     "duration": 0.17932,
     "end_time": "2025-10-19T17:05:51.395701",
     "exception": false,
     "start_time": "2025-10-19T17:05:51.216381",
     "status": "completed"
    },
    "tags": []
   },
   "outputs": [
    {
     "name": "stdout",
     "output_type": "stream",
     "text": [
      "Correct\n",
      "Correct      55.782647\n",
      "Incorrect    44.217353\n",
      "Name: proportion, dtype: float64\n"
     ]
    },
    {
     "data": {
      "image/png": "[encoded data removed]",
      "text/plain": [
       "<Figure size 600x400 with 1 Axes>"
      ]
     },
     "metadata": {},
     "output_type": "display_data"
    }
   ],
   "source": [
    "train['Correct'] = train['Category'].apply(lambda x: 'Correct' if 'True' in x else 'Incorrect')\n",
    "\n",
    "proportions = train['Correct'].value_counts(normalize=True) * 100\n",
    "print(proportions) \n",
    "\n",
    "sns.set_style(\"whitegrid\")\n",
    "plt.figure(figsize=(6,4))\n",
    "sns.barplot(x=proportions.index, y=proportions.values, palette=['green','red'])\n",
    "plt.ylabel(\"Proportion (%)\")\n",
    "plt.title(\"Proportion of Correct vs Incorrect Responses\")\n",
    "plt.show()\n"
   ]
  },
  {
   "cell_type": "markdown",
   "id": "d36d7a58",
   "metadata": {
    "papermill": {
     "duration": 0.013692,
     "end_time": "2025-10-19T17:05:51.423719",
     "exception": false,
     "start_time": "2025-10-19T17:05:51.410027",
     "status": "completed"
    },
    "tags": []
   },
   "source": [
    "The bar plot shows a roughly balanced distribution of correct and incorrect responses."
   ]
  },
  {
   "cell_type": "markdown",
   "id": "df8b3654",
   "metadata": {
    "papermill": {
     "duration": 0.013589,
     "end_time": "2025-10-19T17:05:51.451293",
     "exception": false,
     "start_time": "2025-10-19T17:05:51.437704",
     "status": "completed"
    },
    "tags": []
   },
   "source": [
    "**another type of visualization : static bar chart**"
   ]
  },
  {
   "cell_type": "code",
   "execution_count": 14,
   "id": "356942d9",
   "metadata": {
    "execution": {
     "iopub.execute_input": "2025-10-19T17:05:51.480465Z",
     "iopub.status.busy": "2025-10-19T17:05:51.480154Z",
     "iopub.status.idle": "2025-10-19T17:05:51.710022Z",
     "shell.execute_reply": "2025-10-19T17:05:51.709096Z"
    },
    "papermill": {
     "duration": 0.24606,
     "end_time": "2025-10-19T17:05:51.711397",
     "exception": false,
     "start_time": "2025-10-19T17:05:51.465337",
     "status": "completed"
    },
    "tags": []
   },
   "outputs": [
    {
     "data": {
      "image/png": "[encoded data removed]",
      "text/plain": [
       "<Figure size 800x500 with 1 Axes>"
      ]
     },
     "metadata": {},
     "output_type": "display_data"
    }
   ],
   "source": [
    "category_counts = train['Category'].value_counts(normalize=True) * 100\n",
    "\n",
    "plt.figure(figsize=(8,5))\n",
    "plt.bar(category_counts.index, category_counts.values, color=['#66c2a5','#fc8d62','#8da0cb','#e78ac3','#a6d854','#ffd92f'])\n",
    "plt.ylabel(\"Proportion (%)\")\n",
    "plt.xlabel(\"Category\")\n",
    "plt.title(\"Proportion of every Category\")\n",
    "plt.xticks(rotation=45)\n",
    "plt.ylim(0, max(category_counts.values)*1.1)  \n",
    "plt.show()"
   ]
  },
  {
   "cell_type": "markdown",
   "id": "e0d1640c",
   "metadata": {
    "papermill": {
     "duration": 0.014728,
     "end_time": "2025-10-19T17:05:51.741226",
     "exception": false,
     "start_time": "2025-10-19T17:05:51.726498",
     "status": "completed"
    },
    "tags": []
   },
   "source": [
    "The visualization shows that the majority of responses are True_Correct at almost 40%, while a small minority of responses are True_Misconception and False_Correct."
   ]
  },
  {
   "cell_type": "markdown",
   "id": "222db871",
   "metadata": {
    "papermill": {
     "duration": 0.015203,
     "end_time": "2025-10-19T17:05:51.771578",
     "exception": false,
     "start_time": "2025-10-19T17:05:51.756375",
     "status": "completed"
    },
    "tags": []
   },
   "source": [
    "**Combined Analysis: Correct/Incorrect vs Misconception**"
   ]
  },
  {
   "cell_type": "code",
   "execution_count": 15,
   "id": "a402cb5b",
   "metadata": {
    "execution": {
     "iopub.execute_input": "2025-10-19T17:05:51.804977Z",
     "iopub.status.busy": "2025-10-19T17:05:51.804068Z",
     "iopub.status.idle": "2025-10-19T17:05:52.061726Z",
     "shell.execute_reply": "2025-10-19T17:05:52.060841Z"
    },
    "papermill": {
     "duration": 0.27647,
     "end_time": "2025-10-19T17:05:52.063200",
     "exception": false,
     "start_time": "2025-10-19T17:05:51.786730",
     "status": "completed"
    },
    "tags": []
   },
   "outputs": [
    {
     "data": {
      "image/png": "[encoded data removed]",
      "text/plain": [
       "<Figure size 800x500 with 1 Axes>"
      ]
     },
     "metadata": {},
     "output_type": "display_data"
    }
   ],
   "source": [
    "train['Correct'] = train['Category'].apply(lambda x: 'Correct' if 'True' in x else 'Incorrect')\n",
    "train['Has_Misconception'] = train['Category'].apply(lambda x: 'Misconception' if 'Misconception' in x else 'No Misconception')\n",
    "\n",
    "plt.figure(figsize=(8,5))\n",
    "sns.countplot(x='Correct', hue='Has_Misconception', data=train, palette=['#66c2a5','#fc8d62'])\n",
    "plt.title(\"Combined Analysis: Correct vs Incorrect and Misconception\")\n",
    "plt.ylabel(\"Number of Responses\")\n",
    "plt.show()"
   ]
  },
  {
   "cell_type": "markdown",
   "id": "9358f175",
   "metadata": {
    "papermill": {
     "duration": 0.016049,
     "end_time": "2025-10-19T17:05:52.095239",
     "exception": false,
     "start_time": "2025-10-19T17:05:52.079190",
     "status": "completed"
    },
    "tags": []
   },
   "source": [
    "**MC_Answer distribution**"
   ]
  },
  {
   "cell_type": "code",
   "execution_count": 16,
   "id": "d6aeec50",
   "metadata": {
    "execution": {
     "iopub.execute_input": "2025-10-19T17:05:52.128569Z",
     "iopub.status.busy": "2025-10-19T17:05:52.128196Z",
     "iopub.status.idle": "2025-10-19T17:05:52.652122Z",
     "shell.execute_reply": "2025-10-19T17:05:52.651074Z"
    },
    "papermill": {
     "duration": 0.543307,
     "end_time": "2025-10-19T17:05:52.654542",
     "exception": false,
     "start_time": "2025-10-19T17:05:52.111235",
     "status": "completed"
    },
    "tags": []
   },
   "outputs": [
    {
     "data": {
      "image/png": "[encoded data removed]",
      "text/plain": [
       "<Figure size 640x480 with 1 Axes>"
      ]
     },
     "metadata": {},
     "output_type": "display_data"
    }
   ],
   "source": [
    "sns.countplot(y=train[\"MC_Answer\"], order=train[\"MC_Answer\"].value_counts().index)\n",
    "plt.title(\"Distribution of MC_Answer\")\n",
    "plt.show()"
   ]
  },
  {
   "cell_type": "markdown",
   "id": "8a17fd6e",
   "metadata": {
    "papermill": {
     "duration": 0.017514,
     "end_time": "2025-10-19T17:05:52.691182",
     "exception": false,
     "start_time": "2025-10-19T17:05:52.673668",
     "status": "completed"
    },
    "tags": []
   },
   "source": [
    "The most selected answer for this question is 1/3.\n",
    "This suggests that the question might be relatively easy for students, assuming 1/3 is the correct answer.\n",
    "If 1/3 is incorrect, it could instead indicate a common misconception shared by many students."
   ]
  },
  {
   "cell_type": "markdown",
   "id": "929d4212",
   "metadata": {
    "papermill": {
     "duration": 0.017434,
     "end_time": "2025-10-19T17:05:52.726527",
     "exception": false,
     "start_time": "2025-10-19T17:05:52.709093",
     "status": "completed"
    },
    "tags": []
   },
   "source": [
    "We also notice that MC_Answer is written in LaTeX format.\n",
    "This poses two options for preprocessing:\n",
    "\n",
    "* Convert LaTeX to standard numeric/text form so that conventional models can understand it.\n",
    "\n",
    "* Use models that can handle LaTeX directly, such as MathBERT, MathGPT, or DeepSeekMath, which are designed for mathematical text."
   ]
  },
  {
   "cell_type": "markdown",
   "id": "4ffd54aa",
   "metadata": {
    "papermill": {
     "duration": 0.017595,
     "end_time": "2025-10-19T17:05:52.761938",
     "exception": false,
     "start_time": "2025-10-19T17:05:52.744343",
     "status": "completed"
    },
    "tags": []
   },
   "source": [
    "**explications length distribution**"
   ]
  },
  {
   "cell_type": "code",
   "execution_count": 17,
   "id": "5a416074",
   "metadata": {
    "execution": {
     "iopub.execute_input": "2025-10-19T17:05:52.800348Z",
     "iopub.status.busy": "2025-10-19T17:05:52.800060Z",
     "iopub.status.idle": "2025-10-19T17:05:53.156646Z",
     "shell.execute_reply": "2025-10-19T17:05:53.155676Z"
    },
    "papermill": {
     "duration": 0.377699,
     "end_time": "2025-10-19T17:05:53.158166",
     "exception": false,
     "start_time": "2025-10-19T17:05:52.780467",
     "status": "completed"
    },
    "tags": []
   },
   "outputs": [
    {
     "name": "stderr",
     "output_type": "stream",
     "text": [
      "/usr/local/lib/python3.11/dist-packages/seaborn/_oldcore.py:1119: FutureWarning: use_inf_as_na option is deprecated and will be removed in a future version. Convert inf values to NaN before operating instead.\n",
      "  with pd.option_context('mode.use_inf_as_na', True):\n"
     ]
    },
    {
     "data": {
      "image/png": "[encoded data removed]",
      "text/plain": [
       "<Figure size 1000x600 with 1 Axes>"
      ]
     },
     "metadata": {},
     "output_type": "display_data"
    }
   ],
   "source": [
    "train['Explanation_len'] = train['StudentExplanation'].astype(str).apply(len)\n",
    "\n",
    "plt.figure(figsize=(10,6))\n",
    "sns.histplot(train['Explanation_len'], bins=50)\n",
    "plt.title(\"Distribution of StudentExplanation Lengths\")\n",
    "plt.show()"
   ]
  },
  {
   "cell_type": "markdown",
   "id": "c38117d6",
   "metadata": {
    "papermill": {
     "duration": 0.019264,
     "end_time": "2025-10-19T17:05:53.196925",
     "exception": false,
     "start_time": "2025-10-19T17:05:53.177661",
     "status": "completed"
    },
    "tags": []
   },
   "source": [
    "The distribution of StudentExplanation length is positively skewed, indicating that most students write medium-length explanations (typically 30–120 characters).\n",
    "This provides useful information that can be leveraged for feature engineering or modeling, such as incorporating explanation length as a predictive feature "
   ]
  },
  {
   "cell_type": "markdown",
   "id": "37cdf4dd",
   "metadata": {
    "papermill": {
     "duration": 0.018577,
     "end_time": "2025-10-19T17:05:53.234523",
     "exception": false,
     "start_time": "2025-10-19T17:05:53.215946",
     "status": "completed"
    },
    "tags": []
   },
   "source": [
    "**Explanation Length vs Category**"
   ]
  },
  {
   "cell_type": "markdown",
   "id": "f9aa53c7",
   "metadata": {
    "papermill": {
     "duration": 0.018841,
     "end_time": "2025-10-19T17:05:53.272371",
     "exception": false,
     "start_time": "2025-10-19T17:05:53.253530",
     "status": "completed"
    },
    "tags": []
   },
   "source": [
    "Let's check if there's a link between how long a student’s explanation is and whether their answer is correct.\n",
    "Maybe longer explanations mean better understanding — or maybe they show confusion and lead to more mistakes."
   ]
  },
  {
   "cell_type": "code",
   "execution_count": 18,
   "id": "77e4d9a5",
   "metadata": {
    "execution": {
     "iopub.execute_input": "2025-10-19T17:05:53.312517Z",
     "iopub.status.busy": "2025-10-19T17:05:53.312196Z",
     "iopub.status.idle": "2025-10-19T17:05:53.346550Z",
     "shell.execute_reply": "2025-10-19T17:05:53.345676Z"
    },
    "papermill": {
     "duration": 0.05677,
     "end_time": "2025-10-19T17:05:53.348023",
     "exception": false,
     "start_time": "2025-10-19T17:05:53.291253",
     "status": "completed"
    },
    "tags": []
   },
   "outputs": [
    {
     "data": {
      "text/html": [
       "<div>\n",
       "<style scoped>\n",
       "    .dataframe tbody tr th:only-of-type {\n",
       "        vertical-align: middle;\n",
       "    }\n",
       "\n",
       "    .dataframe tbody tr th {\n",
       "        vertical-align: top;\n",
       "    }\n",
       "\n",
       "    .dataframe thead th {\n",
       "        text-align: right;\n",
       "    }\n",
       "</style>\n",
       "<table border=\"1\" class=\"dataframe\">\n",
       "  <thead>\n",
       "    <tr style=\"text-align: right;\">\n",
       "      <th></th>\n",
       "      <th>StudentExplanation</th>\n",
       "      <th>Explanation_len</th>\n",
       "      <th>Category</th>\n",
       "    </tr>\n",
       "  </thead>\n",
       "  <tbody>\n",
       "    <tr>\n",
       "      <th>17022</th>\n",
       "      <td>In order to do this, you will have to turn the...</td>\n",
       "      <td>586</td>\n",
       "      <td>True_Correct</td>\n",
       "    </tr>\n",
       "    <tr>\n",
       "      <th>30422</th>\n",
       "      <td>a - subtract b if c is positive elif it is neg...</td>\n",
       "      <td>521</td>\n",
       "      <td>True_Neither</td>\n",
       "    </tr>\n",
       "    <tr>\n",
       "      <th>18086</th>\n",
       "      <td>to work out this question, you only really nee...</td>\n",
       "      <td>486</td>\n",
       "      <td>True_Correct</td>\n",
       "    </tr>\n",
       "    <tr>\n",
       "      <th>35319</th>\n",
       "      <td>i think this because: this is an example of in...</td>\n",
       "      <td>415</td>\n",
       "      <td>True_Correct</td>\n",
       "    </tr>\n",
       "    <tr>\n",
       "      <th>25002</th>\n",
       "      <td>to make both fractions equal in to do the equa...</td>\n",
       "      <td>405</td>\n",
       "      <td>True_Correct</td>\n",
       "    </tr>\n",
       "    <tr>\n",
       "      <th>12977</th>\n",
       "      <td>Do a criss-cross. \\n10 x 9 = 15 x A\\nWe know t...</td>\n",
       "      <td>404</td>\n",
       "      <td>True_Correct</td>\n",
       "    </tr>\n",
       "    <tr>\n",
       "      <th>24876</th>\n",
       "      <td>the answer is 11/15. although it may look like...</td>\n",
       "      <td>385</td>\n",
       "      <td>True_Correct</td>\n",
       "    </tr>\n",
       "    <tr>\n",
       "      <th>31401</th>\n",
       "      <td>we must do (-8) - (-5) which can also be viewe...</td>\n",
       "      <td>385</td>\n",
       "      <td>True_Misconception</td>\n",
       "    </tr>\n",
       "    <tr>\n",
       "      <th>570</th>\n",
       "      <td>Because there is 9 triangles in total, and thr...</td>\n",
       "      <td>376</td>\n",
       "      <td>True_Correct</td>\n",
       "    </tr>\n",
       "    <tr>\n",
       "      <th>6014</th>\n",
       "      <td>I did the keep it change it flip it rule. You ...</td>\n",
       "      <td>365</td>\n",
       "      <td>True_Correct</td>\n",
       "    </tr>\n",
       "  </tbody>\n",
       "</table>\n",
       "</div>"
      ],
      "text/plain": [
       "                                      StudentExplanation  Explanation_len  \\\n",
       "17022  In order to do this, you will have to turn the...              586   \n",
       "30422  a - subtract b if c is positive elif it is neg...              521   \n",
       "18086  to work out this question, you only really nee...              486   \n",
       "35319  i think this because: this is an example of in...              415   \n",
       "25002  to make both fractions equal in to do the equa...              405   \n",
       "12977  Do a criss-cross. \\n10 x 9 = 15 x A\\nWe know t...              404   \n",
       "24876  the answer is 11/15. although it may look like...              385   \n",
       "31401  we must do (-8) - (-5) which can also be viewe...              385   \n",
       "570    Because there is 9 triangles in total, and thr...              376   \n",
       "6014   I did the keep it change it flip it rule. You ...              365   \n",
       "\n",
       "                 Category  \n",
       "17022        True_Correct  \n",
       "30422        True_Neither  \n",
       "18086        True_Correct  \n",
       "35319        True_Correct  \n",
       "25002        True_Correct  \n",
       "12977        True_Correct  \n",
       "24876        True_Correct  \n",
       "31401  True_Misconception  \n",
       "570          True_Correct  \n",
       "6014         True_Correct  "
      ]
     },
     "execution_count": 18,
     "metadata": {},
     "output_type": "execute_result"
    }
   ],
   "source": [
    "train[\"Explanation_len\"] = train[\"StudentExplanation\"].apply(lambda x: len(str(x)))\n",
    "longest_explanations = train.sort_values(by=\"Explanation_len\", ascending=False)\n",
    "\n",
    "longest_explanations[[\"StudentExplanation\", \"Explanation_len\", \"Category\"]].head(10)\n"
   ]
  },
  {
   "cell_type": "markdown",
   "id": "79457d23",
   "metadata": {
    "papermill": {
     "duration": 0.018466,
     "end_time": "2025-10-19T17:05:53.385740",
     "exception": false,
     "start_time": "2025-10-19T17:05:53.367274",
     "status": "completed"
    },
    "tags": []
   },
   "source": [
    "Below are some of the longest explanations from the dataset.\n",
    "Most of them belong to the “True_Correct” category, suggesting that longer, more detailed explanations may often come from students who understand the concept well.\n",
    "\n",
    "However, since a few long explanations also appear in other categories (like True_Neither or True_Misconception), length alone is not a perfect indicator of correctness — it simply shows that students who reason more tend to write longer answers."
   ]
  },
  {
   "cell_type": "code",
   "execution_count": 19,
   "id": "6916bd81",
   "metadata": {
    "execution": {
     "iopub.execute_input": "2025-10-19T17:05:53.424864Z",
     "iopub.status.busy": "2025-10-19T17:05:53.424491Z",
     "iopub.status.idle": "2025-10-19T17:05:53.447447Z",
     "shell.execute_reply": "2025-10-19T17:05:53.446535Z"
    },
    "papermill": {
     "duration": 0.044614,
     "end_time": "2025-10-19T17:05:53.449014",
     "exception": false,
     "start_time": "2025-10-19T17:05:53.404400",
     "status": "completed"
    },
    "tags": []
   },
   "outputs": [
    {
     "data": {
      "text/html": [
       "<div>\n",
       "<style scoped>\n",
       "    .dataframe tbody tr th:only-of-type {\n",
       "        vertical-align: middle;\n",
       "    }\n",
       "\n",
       "    .dataframe tbody tr th {\n",
       "        vertical-align: top;\n",
       "    }\n",
       "\n",
       "    .dataframe thead th {\n",
       "        text-align: right;\n",
       "    }\n",
       "</style>\n",
       "<table border=\"1\" class=\"dataframe\">\n",
       "  <thead>\n",
       "    <tr style=\"text-align: right;\">\n",
       "      <th></th>\n",
       "      <th>StudentExplanation</th>\n",
       "      <th>Explanation_len</th>\n",
       "      <th>Category</th>\n",
       "    </tr>\n",
       "  </thead>\n",
       "  <tbody>\n",
       "    <tr>\n",
       "      <th>30752</th>\n",
       "      <td>d</td>\n",
       "      <td>1</td>\n",
       "      <td>True_Neither</td>\n",
       "    </tr>\n",
       "    <tr>\n",
       "      <th>30133</th>\n",
       "      <td>-3</td>\n",
       "      <td>2</td>\n",
       "      <td>True_Neither</td>\n",
       "    </tr>\n",
       "    <tr>\n",
       "      <th>29403</th>\n",
       "      <td>??</td>\n",
       "      <td>2</td>\n",
       "      <td>False_Neither</td>\n",
       "    </tr>\n",
       "    <tr>\n",
       "      <th>30776</th>\n",
       "      <td>d.</td>\n",
       "      <td>2</td>\n",
       "      <td>True_Neither</td>\n",
       "    </tr>\n",
       "    <tr>\n",
       "      <th>35669</th>\n",
       "      <td>b.</td>\n",
       "      <td>2</td>\n",
       "      <td>False_Neither</td>\n",
       "    </tr>\n",
       "    <tr>\n",
       "      <th>2961</th>\n",
       "      <td>3/9</td>\n",
       "      <td>3</td>\n",
       "      <td>False_Neither</td>\n",
       "    </tr>\n",
       "    <tr>\n",
       "      <th>2960</th>\n",
       "      <td>3/9</td>\n",
       "      <td>3</td>\n",
       "      <td>False_Neither</td>\n",
       "    </tr>\n",
       "    <tr>\n",
       "      <th>29315</th>\n",
       "      <td>-13</td>\n",
       "      <td>3</td>\n",
       "      <td>False_Neither</td>\n",
       "    </tr>\n",
       "    <tr>\n",
       "      <th>29316</th>\n",
       "      <td>-13</td>\n",
       "      <td>3</td>\n",
       "      <td>False_Neither</td>\n",
       "    </tr>\n",
       "    <tr>\n",
       "      <th>29317</th>\n",
       "      <td>-13</td>\n",
       "      <td>3</td>\n",
       "      <td>False_Neither</td>\n",
       "    </tr>\n",
       "    <tr>\n",
       "      <th>19162</th>\n",
       "      <td>(B).</td>\n",
       "      <td>4</td>\n",
       "      <td>False_Neither</td>\n",
       "    </tr>\n",
       "    <tr>\n",
       "      <th>2349</th>\n",
       "      <td>1 / 2</td>\n",
       "      <td>5</td>\n",
       "      <td>False_Neither</td>\n",
       "    </tr>\n",
       "    <tr>\n",
       "      <th>31939</th>\n",
       "      <td>8-5=3.</td>\n",
       "      <td>6</td>\n",
       "      <td>False_Neither</td>\n",
       "    </tr>\n",
       "    <tr>\n",
       "      <th>31934</th>\n",
       "      <td>8-5= 3</td>\n",
       "      <td>6</td>\n",
       "      <td>False_Neither</td>\n",
       "    </tr>\n",
       "    <tr>\n",
       "      <th>16139</th>\n",
       "      <td>24 = +3</td>\n",
       "      <td>7</td>\n",
       "      <td>False_Neither</td>\n",
       "    </tr>\n",
       "    <tr>\n",
       "      <th>30197</th>\n",
       "      <td>-8+5=-3</td>\n",
       "      <td>7</td>\n",
       "      <td>True_Correct</td>\n",
       "    </tr>\n",
       "    <tr>\n",
       "      <th>30198</th>\n",
       "      <td>-8+5=-3</td>\n",
       "      <td>7</td>\n",
       "      <td>True_Correct</td>\n",
       "    </tr>\n",
       "    <tr>\n",
       "      <th>30199</th>\n",
       "      <td>-8+5=-3</td>\n",
       "      <td>7</td>\n",
       "      <td>True_Correct</td>\n",
       "    </tr>\n",
       "    <tr>\n",
       "      <th>30203</th>\n",
       "      <td>-8+5=-3.</td>\n",
       "      <td>8</td>\n",
       "      <td>True_Correct</td>\n",
       "    </tr>\n",
       "    <tr>\n",
       "      <th>26929</th>\n",
       "      <td>times by</td>\n",
       "      <td>8</td>\n",
       "      <td>True_Neither</td>\n",
       "    </tr>\n",
       "  </tbody>\n",
       "</table>\n",
       "</div>"
      ],
      "text/plain": [
       "      StudentExplanation  Explanation_len       Category\n",
       "30752                  d                1   True_Neither\n",
       "30133                 -3                2   True_Neither\n",
       "29403                 ??                2  False_Neither\n",
       "30776                 d.                2   True_Neither\n",
       "35669                 b.                2  False_Neither\n",
       "2961                 3/9                3  False_Neither\n",
       "2960                 3/9                3  False_Neither\n",
       "29315                -13                3  False_Neither\n",
       "29316                -13                3  False_Neither\n",
       "29317                -13                3  False_Neither\n",
       "19162               (B).                4  False_Neither\n",
       "2349               1 / 2                5  False_Neither\n",
       "31939             8-5=3.                6  False_Neither\n",
       "31934             8-5= 3                6  False_Neither\n",
       "16139            24 = +3                7  False_Neither\n",
       "30197            -8+5=-3                7   True_Correct\n",
       "30198            -8+5=-3                7   True_Correct\n",
       "30199            -8+5=-3                7   True_Correct\n",
       "30203           -8+5=-3.                8   True_Correct\n",
       "26929           times by                8   True_Neither"
      ]
     },
     "execution_count": 19,
     "metadata": {},
     "output_type": "execute_result"
    }
   ],
   "source": [
    "shortest_explanations = train.sort_values(by=\"Explanation_len\", ascending=True)\n",
    "shortest_explanations[[\"StudentExplanation\", \"Explanation_len\", \"Category\"]].head(20)"
   ]
  },
  {
   "cell_type": "markdown",
   "id": "6e38581c",
   "metadata": {
    "papermill": {
     "duration": 0.018901,
     "end_time": "2025-10-19T17:05:53.487927",
     "exception": false,
     "start_time": "2025-10-19T17:05:53.469026",
     "status": "completed"
    },
    "tags": []
   },
   "source": [
    "In contrast, almost all very short explanations (length ≤ 6) belong to the “Neither” category.\n",
    "This suggests that overly brief answers often lack sufficient reasoning and are less likely to be correct."
   ]
  },
  {
   "cell_type": "markdown",
   "id": "9aae80a2",
   "metadata": {
    "papermill": {
     "duration": 0.019146,
     "end_time": "2025-10-19T17:05:53.526585",
     "exception": false,
     "start_time": "2025-10-19T17:05:53.507439",
     "status": "completed"
    },
    "tags": []
   },
   "source": [
    "**Box Plot for better visualisation**"
   ]
  },
  {
   "cell_type": "code",
   "execution_count": 20,
   "id": "ee5148f5",
   "metadata": {
    "execution": {
     "iopub.execute_input": "2025-10-19T17:05:53.566706Z",
     "iopub.status.busy": "2025-10-19T17:05:53.566383Z",
     "iopub.status.idle": "2025-10-19T17:05:53.856337Z",
     "shell.execute_reply": "2025-10-19T17:05:53.855471Z"
    },
    "papermill": {
     "duration": 0.312422,
     "end_time": "2025-10-19T17:05:53.858474",
     "exception": false,
     "start_time": "2025-10-19T17:05:53.546052",
     "status": "completed"
    },
    "tags": []
   },
   "outputs": [
    {
     "data": {
      "image/png": "[encoded data removed]",
      "text/plain": [
       "<Figure size 1000x600 with 1 Axes>"
      ]
     },
     "metadata": {},
     "output_type": "display_data"
    }
   ],
   "source": [
    "plt.figure(figsize=(10,6))\n",
    "sns.boxplot(x=\"Category\", y=\"Explanation_len\", data=train)\n",
    "plt.title(\"Distribution of Explanation Length by Category\")\n",
    "plt.ylabel(\"Explanation Length (characters)\")\n",
    "plt.xlabel(\"Category\")\n",
    "plt.xticks(rotation=45)\n",
    "plt.show()"
   ]
  },
  {
   "cell_type": "markdown",
   "id": "4e92a208",
   "metadata": {
    "papermill": {
     "duration": 0.020095,
     "end_time": "2025-10-19T17:05:53.900285",
     "exception": false,
     "start_time": "2025-10-19T17:05:53.880190",
     "status": "completed"
    },
    "tags": []
   },
   "source": [
    "**Observations**\n",
    "\n",
    "- The length of the explanations varies across categories.\n",
    "- We previously noticed that students who gave **True_Correct** answers tend to write slightly longer explanations than others.  \n",
    "- Additionally, the True_Neither and False_Neither categories have shorter explanations on average, which may indicate a lack of reasoning or understanding.\n",
    "- The presence of many outliers shows that some students write very long explanations regardless of the answer type.\n",
    "- Overall, there is a **slight positive correlation** between **explanation length** and **correctness**, but **length alone is not enough** to determine actual understanding.\n"
   ]
  },
  {
   "cell_type": "markdown",
   "id": "b610a0d8",
   "metadata": {
    "papermill": {
     "duration": 0.020427,
     "end_time": "2025-10-19T17:05:53.941300",
     "exception": false,
     "start_time": "2025-10-19T17:05:53.920873",
     "status": "completed"
    },
    "tags": []
   },
   "source": [
    "Adding **explanation length** as a feature in feature engineering **may help capture understanding**, as longer explanations can sometimes indicate better reasoning. However, in my case, I will use **embeddings** that already encode the semantic content and partially the structure of the text. In other words, embeddings **implicitly take length into account**: a longer text often produces a vector with **richer content** and a **different structure**. Therefore, length is not completely lost and there is no need to include it as a separate feature, since embeddings capture the relevant information more effectively than a simple length measure.\n"
   ]
  },
  {
   "cell_type": "markdown",
   "id": "ff4ad6cd",
   "metadata": {
    "papermill": {
     "duration": 0.020629,
     "end_time": "2025-10-19T17:05:53.983137",
     "exception": false,
     "start_time": "2025-10-19T17:05:53.962508",
     "status": "completed"
    },
    "tags": []
   },
   "source": [
    "**Displaying Answers per Question**"
   ]
  },
  {
   "cell_type": "code",
   "execution_count": 21,
   "id": "a7d35444",
   "metadata": {
    "execution": {
     "iopub.execute_input": "2025-10-19T17:05:54.027904Z",
     "iopub.status.busy": "2025-10-19T17:05:54.027101Z",
     "iopub.status.idle": "2025-10-19T17:05:54.124899Z",
     "shell.execute_reply": "2025-10-19T17:05:54.124006Z"
    },
    "papermill": {
     "duration": 0.121766,
     "end_time": "2025-10-19T17:05:54.126327",
     "exception": false,
     "start_time": "2025-10-19T17:05:54.004561",
     "status": "completed"
    },
    "tags": []
   },
   "outputs": [
    {
     "name": "stdout",
     "output_type": "stream",
     "text": [
      "\n"
     ]
    },
    {
     "data": {
      "text/latex": [
       "QuestionId 31772: What fraction of the shape is not shaded? Give your answer in its simplest form. [Image: A triangle split into 9 equal smaller triangles. 6 of them are shaded.]"
      ],
      "text/plain": [
       "<IPython.core.display.Latex object>"
      ]
     },
     "metadata": {},
     "output_type": "display_data"
    },
    {
     "data": {
      "text/latex": [
       "MC Answers: (A) \\( \\frac{1}{3} \\) (B) \\( \\frac{3}{9} \\) (C) \\( \\frac{3}{6} \\) (D) \\( \\frac{3}{8} \\)"
      ],
      "text/plain": [
       "<IPython.core.display.Latex object>"
      ]
     },
     "metadata": {},
     "output_type": "display_data"
    },
    {
     "name": "stdout",
     "output_type": "stream",
     "text": [
      "\n"
     ]
    },
    {
     "data": {
      "text/latex": [
       "QuestionId 31774: Calculate \\( \\frac{1}{2} \\div 6 \\)"
      ],
      "text/plain": [
       "<IPython.core.display.Latex object>"
      ]
     },
     "metadata": {},
     "output_type": "display_data"
    },
    {
     "data": {
      "text/latex": [
       "MC Answers: (A) \\( \\frac{1}{12} \\) (B) \\( 3 \\) (C) \\( \\frac{6}{2} \\) (D) \\( \\frac{1}{3} \\)"
      ],
      "text/plain": [
       "<IPython.core.display.Latex object>"
      ]
     },
     "metadata": {},
     "output_type": "display_data"
    },
    {
     "name": "stdout",
     "output_type": "stream",
     "text": [
      "\n"
     ]
    },
    {
     "data": {
      "text/latex": [
       "QuestionId 31777: A box contains \\( 120 \\) counters. The counters are red or blue. \\( \\frac{3}{5} \\) of the counters are red.\n",
       "How many red counters are there?"
      ],
      "text/plain": [
       "<IPython.core.display.Latex object>"
      ]
     },
     "metadata": {},
     "output_type": "display_data"
    },
    {
     "data": {
      "text/latex": [
       "MC Answers: (A) \\( 72 \\) (B) \\( 48 \\) (C) \\( 60 \\) (D) \\( 24 \\)"
      ],
      "text/plain": [
       "<IPython.core.display.Latex object>"
      ]
     },
     "metadata": {},
     "output_type": "display_data"
    },
    {
     "name": "stdout",
     "output_type": "stream",
     "text": [
      "\n"
     ]
    },
    {
     "data": {
      "text/latex": [
       "QuestionId 31778: \\( \\frac{A}{10}=\\frac{9}{15} \\) What is the value of \\( A \\) ?"
      ],
      "text/plain": [
       "<IPython.core.display.Latex object>"
      ]
     },
     "metadata": {},
     "output_type": "display_data"
    },
    {
     "data": {
      "text/latex": [
       "MC Answers: (A) \\( 6 \\) (B) \\( 4 \\) (C) \\( 3 \\) (D) \\( 9 \\)"
      ],
      "text/plain": [
       "<IPython.core.display.Latex object>"
      ]
     },
     "metadata": {},
     "output_type": "display_data"
    },
    {
     "name": "stdout",
     "output_type": "stream",
     "text": [
      "\n"
     ]
    },
    {
     "data": {
      "text/latex": [
       "QuestionId 32829: \\( 2 y=24 \\) What is the value of \\( y \\) ?"
      ],
      "text/plain": [
       "<IPython.core.display.Latex object>"
      ]
     },
     "metadata": {},
     "output_type": "display_data"
    },
    {
     "data": {
      "text/latex": [
       "MC Answers: (A) \\( 12 \\) (B) \\( 4 \\) (C) \\( 22 \\) (D) \\( 48 \\)"
      ],
      "text/plain": [
       "<IPython.core.display.Latex object>"
      ]
     },
     "metadata": {},
     "output_type": "display_data"
    },
    {
     "name": "stdout",
     "output_type": "stream",
     "text": [
      "\n"
     ]
    },
    {
     "data": {
      "text/latex": [
       "QuestionId 32833: Calculate \\( \\frac{2}{3} \\times 5 \\)"
      ],
      "text/plain": [
       "<IPython.core.display.Latex object>"
      ]
     },
     "metadata": {},
     "output_type": "display_data"
    },
    {
     "data": {
      "text/latex": [
       "MC Answers: (A) \\( 3 \\frac{1}{3} \\) (B) \\( \\frac{10}{15} \\) (C) \\( \\frac{2}{15} \\) (D) \\( 5 \\frac{2}{3} \\)"
      ],
      "text/plain": [
       "<IPython.core.display.Latex object>"
      ]
     },
     "metadata": {},
     "output_type": "display_data"
    },
    {
     "name": "stdout",
     "output_type": "stream",
     "text": [
      "\n"
     ]
    },
    {
     "data": {
      "text/latex": [
       "QuestionId 32835: Which number is the greatest?"
      ],
      "text/plain": [
       "<IPython.core.display.Latex object>"
      ]
     },
     "metadata": {},
     "output_type": "display_data"
    },
    {
     "data": {
      "text/latex": [
       "MC Answers: (A) \\( 6.2 \\) (B) \\( 6 \\) (C) \\( 6.079 \\) (D) \\( 6.0001 \\)"
      ],
      "text/plain": [
       "<IPython.core.display.Latex object>"
      ]
     },
     "metadata": {},
     "output_type": "display_data"
    },
    {
     "name": "stdout",
     "output_type": "stream",
     "text": [
      "\n"
     ]
    },
    {
     "data": {
      "text/latex": [
       "QuestionId 33471: A bag contains \\( 24 \\) yellow and green balls. \\( \\frac{3}{8} \\) of the balls are yellow. How many of the balls are green?"
      ],
      "text/plain": [
       "<IPython.core.display.Latex object>"
      ]
     },
     "metadata": {},
     "output_type": "display_data"
    },
    {
     "data": {
      "text/latex": [
       "MC Answers: (A) \\( 15 \\) (B) \\( 9 \\) (C) \\( 8 \\) (D) \\( 3 \\)"
      ],
      "text/plain": [
       "<IPython.core.display.Latex object>"
      ]
     },
     "metadata": {},
     "output_type": "display_data"
    },
    {
     "name": "stdout",
     "output_type": "stream",
     "text": [
      "\n"
     ]
    },
    {
     "data": {
      "text/latex": [
       "QuestionId 33472: \\( \\frac{1}{3}+\\frac{2}{5}= \\)"
      ],
      "text/plain": [
       "<IPython.core.display.Latex object>"
      ]
     },
     "metadata": {},
     "output_type": "display_data"
    },
    {
     "data": {
      "text/latex": [
       "MC Answers: (A) \\( \\frac{11}{15} \\) (B) \\( \\frac{3}{15} \\) (C) \\( \\frac{3}{8} \\) (D) \\( \\frac{11}{30} \\)"
      ],
      "text/plain": [
       "<IPython.core.display.Latex object>"
      ]
     },
     "metadata": {},
     "output_type": "display_data"
    },
    {
     "name": "stdout",
     "output_type": "stream",
     "text": [
      "\n"
     ]
    },
    {
     "data": {
      "text/latex": [
       "QuestionId 33474: Sally has \\( \\frac{2}{3} \\) of a whole cake in the fridge. Robert eats \\( \\frac{1}{3} \\) of this piece. What fraction of the whole cake has Robert eaten?\n",
       "Choose the number sentence that would solve the word problem."
      ],
      "text/plain": [
       "<IPython.core.display.Latex object>"
      ]
     },
     "metadata": {},
     "output_type": "display_data"
    },
    {
     "data": {
      "text/latex": [
       "MC Answers: (A) \\( \\frac{2}{3}-\\frac{1}{3} \\) (B) \\( \\frac{1}{3} \\times \\frac{2}{3} \\) (C) \\( \\frac{2}{3} \\div \\frac{1}{3} \\) (D) \\( \\frac{1}{3}+\\frac{2}{3} \\)"
      ],
      "text/plain": [
       "<IPython.core.display.Latex object>"
      ]
     },
     "metadata": {},
     "output_type": "display_data"
    },
    {
     "name": "stdout",
     "output_type": "stream",
     "text": [
      "\n"
     ]
    },
    {
     "data": {
      "text/latex": [
       "QuestionId 76870: This is part of a regular polygon. How many sides does it have? [Image: A diagram showing an obtuse angle labelled 144 degrees]"
      ],
      "text/plain": [
       "<IPython.core.display.Latex object>"
      ]
     },
     "metadata": {},
     "output_type": "display_data"
    },
    {
     "data": {
      "text/latex": [
       "MC Answers: (A) \\( 10 \\) (B) Not enough information (C) \\( 5 \\) (D) \\( 6 \\)"
      ],
      "text/plain": [
       "<IPython.core.display.Latex object>"
      ]
     },
     "metadata": {},
     "output_type": "display_data"
    },
    {
     "name": "stdout",
     "output_type": "stream",
     "text": [
      "\n"
     ]
    },
    {
     "data": {
      "text/latex": [
       "QuestionId 89443: What number belongs in the box?\n",
       "\\(\n",
       "(-8)-(-5)=\n",
       "\\square\\)"
      ],
      "text/plain": [
       "<IPython.core.display.Latex object>"
      ]
     },
     "metadata": {},
     "output_type": "display_data"
    },
    {
     "data": {
      "text/latex": [
       "MC Answers: (A) \\( -3 \\) (B) \\( -13 \\) (C) \\( 3 \\) (D) \\( 13 \\)"
      ],
      "text/plain": [
       "<IPython.core.display.Latex object>"
      ]
     },
     "metadata": {},
     "output_type": "display_data"
    },
    {
     "name": "stdout",
     "output_type": "stream",
     "text": [
      "\n"
     ]
    },
    {
     "data": {
      "text/latex": [
       "QuestionId 91695: Dots have been arranged in these patterns: [Image: Pattern 1 consists of 6 dots, Pattern 2 consists of 10 dots, Pattern 3 consists of 14 dots and Pattern 4 consists of 18 dots] How many dots would there be in Pattern \\( 6 \\) ?"
      ],
      "text/plain": [
       "<IPython.core.display.Latex object>"
      ]
     },
     "metadata": {},
     "output_type": "display_data"
    },
    {
     "data": {
      "text/latex": [
       "MC Answers: (A) \\( 26 \\) (B) \\( 22 \\) (C) \\( 36 \\) (D) \\( 20 \\)"
      ],
      "text/plain": [
       "<IPython.core.display.Latex object>"
      ]
     },
     "metadata": {},
     "output_type": "display_data"
    },
    {
     "name": "stdout",
     "output_type": "stream",
     "text": [
      "\n"
     ]
    },
    {
     "data": {
      "text/latex": [
       "QuestionId 104665: It takes \\( 3 \\) people a total of \\( 192 \\) hours to build a wall.\n",
       "\n",
       "How long would it take if \\( 12 \\) people built the same wall?"
      ],
      "text/plain": [
       "<IPython.core.display.Latex object>"
      ]
     },
     "metadata": {},
     "output_type": "display_data"
    },
    {
     "data": {
      "text/latex": [
       "MC Answers: (A) \\( 48 \\) hours (B) \\( 768 \\) hours (C) \\( 64 \\) hours (D) \\( 192 \\) hours"
      ],
      "text/plain": [
       "<IPython.core.display.Latex object>"
      ]
     },
     "metadata": {},
     "output_type": "display_data"
    },
    {
     "name": "stdout",
     "output_type": "stream",
     "text": [
      "\n"
     ]
    },
    {
     "data": {
      "text/latex": [
       "QuestionId 109465: The probability of an event occurring is \\( 0.9 \\).\n",
       "\n",
       "Which of the following most accurately describes the likelihood of the event occurring?"
      ],
      "text/plain": [
       "<IPython.core.display.Latex object>"
      ]
     },
     "metadata": {},
     "output_type": "display_data"
    },
    {
     "data": {
      "text/latex": [
       "MC Answers: (A) Likely (B) Unlikely (C) Certain (D) Impossible"
      ],
      "text/plain": [
       "<IPython.core.display.Latex object>"
      ]
     },
     "metadata": {},
     "output_type": "display_data"
    }
   ],
   "source": [
    "from IPython.display import display, Math, Latex\n",
    "\n",
    "tmp = train.groupby(['QuestionId','MC_Answer']).size().reset_index(name='count')\n",
    "tmp['rank'] = tmp.groupby('QuestionId')['count'].rank(method='dense', ascending=False).astype(int) - 1\n",
    "tmp = tmp.drop('count',axis=1)\n",
    "tmp = tmp.sort_values(['QuestionId','rank'])\n",
    "\n",
    "Q = tmp.QuestionId.unique()\n",
    "for q in Q:\n",
    "    question = train.loc[train.QuestionId==q].iloc[0].QuestionText\n",
    "    choices = tmp.loc[tmp.QuestionId==q].MC_Answer.values\n",
    "    labels=\"ABCD\"\n",
    "    choice_str = \" \".join([f\"({labels[i]}) {choice}\" for i, choice in enumerate(choices)])\n",
    "    \n",
    "    print()\n",
    "    display(Latex(f\"QuestionId {q}: {question}\") )\n",
    "    display(Latex(f\"MC Answers: {choice_str}\"))"
   ]
  },
  {
   "cell_type": "markdown",
   "id": "8b980358",
   "metadata": {
    "papermill": {
     "duration": 0.023439,
     "end_time": "2025-10-19T17:05:54.174361",
     "exception": false,
     "start_time": "2025-10-19T17:05:54.150922",
     "status": "completed"
    },
    "tags": []
   },
   "source": [
    "Some questions share semantic meaning (e.g., fractions, equations, geometry).\n",
    "Using a SentenceTransformer, semantically similar questions are close in embedding space.\n",
    "\n",
    "We can also create a QuestionType feature (e.g., addition, subtraction, fraction) to capture concept understanding, helping the model predict answers more accurately.\n",
    "\n",
    "Why this is useful:\n",
    "\n",
    "* Students who perform well on one question type are likely to succeed on other questions of the same type.\n",
    "\n",
    "* This feature captures conceptual understanding and can improve predictive models."
   ]
  },
  {
   "cell_type": "markdown",
   "id": "bfdc882b",
   "metadata": {
    "papermill": {
     "duration": 0.024941,
     "end_time": "2025-10-19T17:05:54.223303",
     "exception": false,
     "start_time": "2025-10-19T17:05:54.198362",
     "status": "completed"
    },
    "tags": []
   },
   "source": [
    "**preprocessing**"
   ]
  },
  {
   "cell_type": "markdown",
   "id": "0a56827e",
   "metadata": {
    "papermill": {
     "duration": 0.024429,
     "end_time": "2025-10-19T17:05:54.272719",
     "exception": false,
     "start_time": "2025-10-19T17:05:54.248290",
     "status": "completed"
    },
    "tags": []
   },
   "source": [
    "**QuestionText & MC_Answer cleaning :**"
   ]
  },
  {
   "cell_type": "markdown",
   "id": "7efa481e",
   "metadata": {
    "papermill": {
     "duration": 0.024146,
     "end_time": "2025-10-19T17:05:54.321072",
     "exception": false,
     "start_time": "2025-10-19T17:05:54.296926",
     "status": "completed"
    },
    "tags": []
   },
   "source": [
    "As we noticed in the EDA phase , questions and multiple-choice answers are written with LaTeX code, which can be confusing for the model. To make the model better understand the text, we need to clean the LaTeX expressions and image placeholders."
   ]
  },
  {
   "cell_type": "code",
   "execution_count": 22,
   "id": "e4f169d6",
   "metadata": {
    "execution": {
     "iopub.execute_input": "2025-10-19T17:05:54.370631Z",
     "iopub.status.busy": "2025-10-19T17:05:54.370316Z",
     "iopub.status.idle": "2025-10-19T17:05:55.064349Z",
     "shell.execute_reply": "2025-10-19T17:05:55.063280Z"
    },
    "papermill": {
     "duration": 0.720755,
     "end_time": "2025-10-19T17:05:55.066019",
     "exception": false,
     "start_time": "2025-10-19T17:05:54.345264",
     "status": "completed"
    },
    "tags": []
   },
   "outputs": [],
   "source": [
    "import re\n",
    "\n",
    "def clean_text(text):\n",
    "    text = str(text)\n",
    "    text = re.sub(r'\\\\\\(|\\\\\\)|\\\\\\[|\\\\\\]', ' ', text)\n",
    "    text = re.sub(r'\\\\frac\\{(\\d+)\\}\\{(\\d+)\\}', r'\\1/\\2', text)\n",
    "    text = re.sub(r'\\[Image:\\s*(.*?)\\]', r'\\1', text)\n",
    "    text = re.sub(r'\\s+', ' ', text).strip()\n",
    "    return text\n",
    "\n",
    "train[\"CleanedQuestion\"] = train[\"QuestionText\"].apply(clean_text)\n",
    "train[\"CleanedMcAnswer\"] = train[\"MC_Answer\"].apply(clean_text)\n"
   ]
  },
  {
   "cell_type": "code",
   "execution_count": 23,
   "id": "ded26818",
   "metadata": {
    "execution": {
     "iopub.execute_input": "2025-10-19T17:05:55.116719Z",
     "iopub.status.busy": "2025-10-19T17:05:55.116403Z",
     "iopub.status.idle": "2025-10-19T17:05:55.123058Z",
     "shell.execute_reply": "2025-10-19T17:05:55.122073Z"
    },
    "papermill": {
     "duration": 0.033598,
     "end_time": "2025-10-19T17:05:55.124508",
     "exception": false,
     "start_time": "2025-10-19T17:05:55.090910",
     "status": "completed"
    },
    "tags": []
   },
   "outputs": [
    {
     "name": "stdout",
     "output_type": "stream",
     "text": [
      "🔹 Original\n",
      "Q: What fraction of the shape is not shaded? Give your answer in its simplest form. [Image: A triangle split into 9 equal smaller triangles. 6 of them are shaded.]\n",
      "A: \\( \\frac{1}{3} \\)\n",
      "\n",
      "🔹 Cleaned\n",
      "Q: What fraction of the shape is not shaded? Give your answer in its simplest form. A triangle split into 9 equal smaller triangles. 6 of them are shaded.\n",
      "A: 1/3\n"
     ]
    }
   ],
   "source": [
    "i = 0\n",
    "\n",
    "print(\"🔹 Original\")\n",
    "print(\"Q:\", train.loc[i, \"QuestionText\"])\n",
    "print(\"A:\", train.loc[i, \"MC_Answer\"])\n",
    "print(\"\\n🔹 Cleaned\")\n",
    "print(\"Q:\", train.loc[i, \"CleanedQuestion\"])\n",
    "print(\"A:\", train.loc[i, \"CleanedMcAnswer\"])\n"
   ]
  },
  {
   "cell_type": "markdown",
   "id": "45c60add",
   "metadata": {
    "papermill": {
     "duration": 0.0242,
     "end_time": "2025-10-19T17:05:55.173158",
     "exception": false,
     "start_time": "2025-10-19T17:05:55.148958",
     "status": "completed"
    },
    "tags": []
   },
   "source": [
    "**cleaning misconception feature :**"
   ]
  },
  {
   "cell_type": "markdown",
   "id": "b7f7eaaa",
   "metadata": {
    "papermill": {
     "duration": 0.024296,
     "end_time": "2025-10-19T17:05:55.221599",
     "exception": false,
     "start_time": "2025-10-19T17:05:55.197303",
     "status": "completed"
    },
    "tags": []
   },
   "source": [
    "As we have missing values in the `Misconception` column, we need to replace them with something else so that the model can handle them properly. Here, we choose to replace them with `\"None\"`."
   ]
  },
  {
   "cell_type": "code",
   "execution_count": 24,
   "id": "35ef0fe2",
   "metadata": {
    "execution": {
     "iopub.execute_input": "2025-10-19T17:05:55.271781Z",
     "iopub.status.busy": "2025-10-19T17:05:55.271111Z",
     "iopub.status.idle": "2025-10-19T17:05:55.278515Z",
     "shell.execute_reply": "2025-10-19T17:05:55.277715Z"
    },
    "papermill": {
     "duration": 0.033988,
     "end_time": "2025-10-19T17:05:55.279920",
     "exception": false,
     "start_time": "2025-10-19T17:05:55.245932",
     "status": "completed"
    },
    "tags": []
   },
   "outputs": [],
   "source": [
    "train['Misconception'] = train['Misconception'].fillna('None')"
   ]
  },
  {
   "cell_type": "code",
   "execution_count": 25,
   "id": "49c73b73",
   "metadata": {
    "execution": {
     "iopub.execute_input": "2025-10-19T17:05:55.329522Z",
     "iopub.status.busy": "2025-10-19T17:05:55.329179Z",
     "iopub.status.idle": "2025-10-19T17:05:55.337039Z",
     "shell.execute_reply": "2025-10-19T17:05:55.336197Z"
    },
    "papermill": {
     "duration": 0.034361,
     "end_time": "2025-10-19T17:05:55.338312",
     "exception": false,
     "start_time": "2025-10-19T17:05:55.303951",
     "status": "completed"
    },
    "tags": []
   },
   "outputs": [
    {
     "data": {
      "text/plain": [
       "0"
      ]
     },
     "execution_count": 25,
     "metadata": {},
     "output_type": "execute_result"
    }
   ],
   "source": [
    "train['Misconception'].isna().sum()"
   ]
  },
  {
   "cell_type": "markdown",
   "id": "cdb56daa",
   "metadata": {
    "papermill": {
     "duration": 0.024339,
     "end_time": "2025-10-19T17:05:55.387426",
     "exception": false,
     "start_time": "2025-10-19T17:05:55.363087",
     "status": "completed"
    },
    "tags": []
   },
   "source": [
    "**Cleaning row_id :**"
   ]
  },
  {
   "cell_type": "markdown",
   "id": "b477ef59",
   "metadata": {
    "papermill": {
     "duration": 0.024219,
     "end_time": "2025-10-19T17:05:55.435899",
     "exception": false,
     "start_time": "2025-10-19T17:05:55.411680",
     "status": "completed"
    },
    "tags": []
   },
   "source": [
    "As we can identify rows by their index , there is no need to keep the row_id "
   ]
  },
  {
   "cell_type": "code",
   "execution_count": 26,
   "id": "88928951",
   "metadata": {
    "execution": {
     "iopub.execute_input": "2025-10-19T17:05:55.487207Z",
     "iopub.status.busy": "2025-10-19T17:05:55.486886Z",
     "iopub.status.idle": "2025-10-19T17:05:55.497553Z",
     "shell.execute_reply": "2025-10-19T17:05:55.496792Z"
    },
    "papermill": {
     "duration": 0.038632,
     "end_time": "2025-10-19T17:05:55.499194",
     "exception": false,
     "start_time": "2025-10-19T17:05:55.460562",
     "status": "completed"
    },
    "tags": []
   },
   "outputs": [],
   "source": [
    "train = train.drop(columns=['row_id'])"
   ]
  }
 ],
 "metadata": {
  "kaggle": {
   "accelerator": "none",
   "dataSources": [
    {
     "databundleVersionId": 12957508,
     "sourceId": 104383,
     "sourceType": "competition"
    }
   ],
   "dockerImageVersionId": 31153,
   "isGpuEnabled": false,
   "isInternetEnabled": true,
   "language": "python",
   "sourceType": "notebook"
  },
  "kernelspec": {
   "display_name": "Python 3",
   "language": "python",
   "name": "python3"
  },
  "language_info": {
   "codemirror_mode": {
    "name": "ipython",
    "version": 3
   },
   "file_extension": ".py",
   "mimetype": "text/x-python",
   "name": "python",
   "nbconvert_exporter": "python",
   "pygments_lexer": "ipython3",
   "version": "3.11.13"
  },
  "papermill": {
   "default_parameters": {},
   "duration": 22.026976,
   "end_time": "2025-10-19T17:05:56.243670",
   "environment_variables": {},
   "exception": null,
   "input_path": "__notebook__.ipynb",
   "output_path": "__notebook__.ipynb",
   "parameters": {},
   "start_time": "2025-10-19T17:05:34.216694",
   "version": "2.6.0"
  }
 },
 "nbformat": 4,
 "nbformat_minor": 5
}
