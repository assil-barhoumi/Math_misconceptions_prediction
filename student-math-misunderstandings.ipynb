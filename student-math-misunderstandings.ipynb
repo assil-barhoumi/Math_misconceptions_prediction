{
 "cells": [
  {
   "cell_type": "markdown",
   "id": "c341d157",
   "metadata": {
    "papermill": {
     "duration": 0.00486,
     "end_time": "2025-10-17T18:17:16.256825",
     "exception": false,
     "start_time": "2025-10-17T18:17:16.251965",
     "status": "completed"
    },
    "tags": []
   },
   "source": [
    "prepare the environment : "
   ]
  },
  {
   "cell_type": "code",
   "execution_count": 1,
   "id": "bd0cab48",
   "metadata": {
    "_cell_guid": "b1076dfc-b9ad-4769-8c92-a6c4dae69d19",
    "_uuid": "8f2839f25d086af736a60e9eeb907d3b93b6e0e5",
    "execution": {
     "iopub.execute_input": "2025-10-17T18:17:16.266650Z",
     "iopub.status.busy": "2025-10-17T18:17:16.265704Z",
     "iopub.status.idle": "2025-10-17T18:17:21.467613Z",
     "shell.execute_reply": "2025-10-17T18:17:21.466477Z"
    },
    "papermill": {
     "duration": 5.208231,
     "end_time": "2025-10-17T18:17:21.469082",
     "exception": false,
     "start_time": "2025-10-17T18:17:16.260851",
     "status": "completed"
    },
    "tags": []
   },
   "outputs": [
    {
     "name": "stdout",
     "output_type": "stream",
     "text": [
      "Requirement already satisfied: pandas in /usr/local/lib/python3.11/dist-packages (2.2.3)\r\n",
      "Requirement already satisfied: numpy in /usr/local/lib/python3.11/dist-packages (1.26.4)\r\n",
      "Requirement already satisfied: matplotlib in /usr/local/lib/python3.11/dist-packages (3.7.2)\r\n",
      "Requirement already satisfied: seaborn in /usr/local/lib/python3.11/dist-packages (0.12.2)\r\n",
      "Requirement already satisfied: python-dateutil>=2.8.2 in /usr/local/lib/python3.11/dist-packages (from pandas) (2.9.0.post0)\r\n",
      "Requirement already satisfied: pytz>=2020.1 in /usr/local/lib/python3.11/dist-packages (from pandas) (2025.2)\r\n",
      "Requirement already satisfied: tzdata>=2022.7 in /usr/local/lib/python3.11/dist-packages (from pandas) (2025.2)\r\n",
      "Requirement already satisfied: mkl_fft in /usr/local/lib/python3.11/dist-packages (from numpy) (1.3.8)\r\n",
      "Requirement already satisfied: mkl_random in /usr/local/lib/python3.11/dist-packages (from numpy) (1.2.4)\r\n",
      "Requirement already satisfied: mkl_umath in /usr/local/lib/python3.11/dist-packages (from numpy) (0.1.1)\r\n",
      "Requirement already satisfied: mkl in /usr/local/lib/python3.11/dist-packages (from numpy) (2025.2.0)\r\n",
      "Requirement already satisfied: tbb4py in /usr/local/lib/python3.11/dist-packages (from numpy) (2022.2.0)\r\n",
      "Requirement already satisfied: mkl-service in /usr/local/lib/python3.11/dist-packages (from numpy) (2.4.1)\r\n",
      "Requirement already satisfied: contourpy>=1.0.1 in /usr/local/lib/python3.11/dist-packages (from matplotlib) (1.3.2)\r\n",
      "Requirement already satisfied: cycler>=0.10 in /usr/local/lib/python3.11/dist-packages (from matplotlib) (0.12.1)\r\n",
      "Requirement already satisfied: fonttools>=4.22.0 in /usr/local/lib/python3.11/dist-packages (from matplotlib) (4.59.0)\r\n",
      "Requirement already satisfied: kiwisolver>=1.0.1 in /usr/local/lib/python3.11/dist-packages (from matplotlib) (1.4.8)\r\n",
      "Requirement already satisfied: packaging>=20.0 in /usr/local/lib/python3.11/dist-packages (from matplotlib) (25.0)\r\n",
      "Requirement already satisfied: pillow>=6.2.0 in /usr/local/lib/python3.11/dist-packages (from matplotlib) (11.3.0)\r\n",
      "Requirement already satisfied: pyparsing<3.1,>=2.3.1 in /usr/local/lib/python3.11/dist-packages (from matplotlib) (3.0.9)\r\n",
      "Requirement already satisfied: six>=1.5 in /usr/local/lib/python3.11/dist-packages (from python-dateutil>=2.8.2->pandas) (1.17.0)\r\n",
      "Requirement already satisfied: intel-openmp<2026,>=2024 in /usr/local/lib/python3.11/dist-packages (from mkl->numpy) (2024.2.0)\r\n",
      "Requirement already satisfied: tbb==2022.* in /usr/local/lib/python3.11/dist-packages (from mkl->numpy) (2022.2.0)\r\n",
      "Requirement already satisfied: tcmlib==1.* in /usr/local/lib/python3.11/dist-packages (from tbb==2022.*->mkl->numpy) (1.4.0)\r\n",
      "Requirement already satisfied: intel-cmplr-lib-rt in /usr/local/lib/python3.11/dist-packages (from mkl_umath->numpy) (2024.2.0)\r\n",
      "Requirement already satisfied: intel-cmplr-lib-ur==2024.2.0 in /usr/local/lib/python3.11/dist-packages (from intel-openmp<2026,>=2024->mkl->numpy) (2024.2.0)\r\n",
      "Note: you may need to restart the kernel to use updated packages.\n"
     ]
    }
   ],
   "source": [
    "pip install pandas numpy matplotlib seaborn"
   ]
  },
  {
   "cell_type": "markdown",
   "id": "f809a5ee",
   "metadata": {
    "papermill": {
     "duration": 0.004009,
     "end_time": "2025-10-17T18:17:21.477601",
     "exception": false,
     "start_time": "2025-10-17T18:17:21.473592",
     "status": "completed"
    },
    "tags": []
   },
   "source": [
    "**data loading**"
   ]
  },
  {
   "cell_type": "code",
   "execution_count": 2,
   "id": "c05a3984",
   "metadata": {
    "execution": {
     "iopub.execute_input": "2025-10-17T18:17:21.487631Z",
     "iopub.status.busy": "2025-10-17T18:17:21.486801Z",
     "iopub.status.idle": "2025-10-17T18:17:23.698526Z",
     "shell.execute_reply": "2025-10-17T18:17:23.697588Z"
    },
    "papermill": {
     "duration": 2.218315,
     "end_time": "2025-10-17T18:17:23.699997",
     "exception": false,
     "start_time": "2025-10-17T18:17:21.481682",
     "status": "completed"
    },
    "tags": []
   },
   "outputs": [
    {
     "name": "stdout",
     "output_type": "stream",
     "text": [
      "(36696, 7)\n"
     ]
    },
    {
     "data": {
      "text/html": [
       "<div>\n",
       "<style scoped>\n",
       "    .dataframe tbody tr th:only-of-type {\n",
       "        vertical-align: middle;\n",
       "    }\n",
       "\n",
       "    .dataframe tbody tr th {\n",
       "        vertical-align: top;\n",
       "    }\n",
       "\n",
       "    .dataframe thead th {\n",
       "        text-align: right;\n",
       "    }\n",
       "</style>\n",
       "<table border=\"1\" class=\"dataframe\">\n",
       "  <thead>\n",
       "    <tr style=\"text-align: right;\">\n",
       "      <th></th>\n",
       "      <th>row_id</th>\n",
       "      <th>QuestionId</th>\n",
       "      <th>QuestionText</th>\n",
       "      <th>MC_Answer</th>\n",
       "      <th>StudentExplanation</th>\n",
       "      <th>Category</th>\n",
       "      <th>Misconception</th>\n",
       "    </tr>\n",
       "  </thead>\n",
       "  <tbody>\n",
       "    <tr>\n",
       "      <th>0</th>\n",
       "      <td>0</td>\n",
       "      <td>31772</td>\n",
       "      <td>What fraction of the shape is not shaded? Give...</td>\n",
       "      <td>\\( \\frac{1}{3} \\)</td>\n",
       "      <td>0ne third is equal to tree nineth</td>\n",
       "      <td>True_Correct</td>\n",
       "      <td>NaN</td>\n",
       "    </tr>\n",
       "    <tr>\n",
       "      <th>1</th>\n",
       "      <td>1</td>\n",
       "      <td>31772</td>\n",
       "      <td>What fraction of the shape is not shaded? Give...</td>\n",
       "      <td>\\( \\frac{1}{3} \\)</td>\n",
       "      <td>1 / 3 because 6 over 9 is 2 thirds and 1 third...</td>\n",
       "      <td>True_Correct</td>\n",
       "      <td>NaN</td>\n",
       "    </tr>\n",
       "    <tr>\n",
       "      <th>2</th>\n",
       "      <td>2</td>\n",
       "      <td>31772</td>\n",
       "      <td>What fraction of the shape is not shaded? Give...</td>\n",
       "      <td>\\( \\frac{1}{3} \\)</td>\n",
       "      <td>1 3rd is half of 3 6th, so it is simplee to un...</td>\n",
       "      <td>True_Neither</td>\n",
       "      <td>NaN</td>\n",
       "    </tr>\n",
       "    <tr>\n",
       "      <th>3</th>\n",
       "      <td>3</td>\n",
       "      <td>31772</td>\n",
       "      <td>What fraction of the shape is not shaded? Give...</td>\n",
       "      <td>\\( \\frac{1}{3} \\)</td>\n",
       "      <td>1 goes into everything and 3 goes into nine</td>\n",
       "      <td>True_Neither</td>\n",
       "      <td>NaN</td>\n",
       "    </tr>\n",
       "    <tr>\n",
       "      <th>4</th>\n",
       "      <td>4</td>\n",
       "      <td>31772</td>\n",
       "      <td>What fraction of the shape is not shaded? Give...</td>\n",
       "      <td>\\( \\frac{1}{3} \\)</td>\n",
       "      <td>1 out of every 3 isn't coloured</td>\n",
       "      <td>True_Correct</td>\n",
       "      <td>NaN</td>\n",
       "    </tr>\n",
       "  </tbody>\n",
       "</table>\n",
       "</div>"
      ],
      "text/plain": [
       "   row_id  QuestionId                                       QuestionText  \\\n",
       "0       0       31772  What fraction of the shape is not shaded? Give...   \n",
       "1       1       31772  What fraction of the shape is not shaded? Give...   \n",
       "2       2       31772  What fraction of the shape is not shaded? Give...   \n",
       "3       3       31772  What fraction of the shape is not shaded? Give...   \n",
       "4       4       31772  What fraction of the shape is not shaded? Give...   \n",
       "\n",
       "           MC_Answer                                 StudentExplanation  \\\n",
       "0  \\( \\frac{1}{3} \\)                  0ne third is equal to tree nineth   \n",
       "1  \\( \\frac{1}{3} \\)  1 / 3 because 6 over 9 is 2 thirds and 1 third...   \n",
       "2  \\( \\frac{1}{3} \\)  1 3rd is half of 3 6th, so it is simplee to un...   \n",
       "3  \\( \\frac{1}{3} \\)        1 goes into everything and 3 goes into nine   \n",
       "4  \\( \\frac{1}{3} \\)                    1 out of every 3 isn't coloured   \n",
       "\n",
       "       Category Misconception  \n",
       "0  True_Correct           NaN  \n",
       "1  True_Correct           NaN  \n",
       "2  True_Neither           NaN  \n",
       "3  True_Neither           NaN  \n",
       "4  True_Correct           NaN  "
      ]
     },
     "execution_count": 2,
     "metadata": {},
     "output_type": "execute_result"
    }
   ],
   "source": [
    "import pandas as pd\n",
    "\n",
    "train = pd.read_csv(\"/kaggle/input/map-charting-student-math-misunderstandings/train.csv\")\n",
    "\n",
    "print(train.shape)\n",
    "train.head()"
   ]
  },
  {
   "cell_type": "markdown",
   "id": "56e98b2b",
   "metadata": {
    "papermill": {
     "duration": 0.003856,
     "end_time": "2025-10-17T18:17:23.708292",
     "exception": false,
     "start_time": "2025-10-17T18:17:23.704436",
     "status": "completed"
    },
    "tags": []
   },
   "source": [
    "**Dataset Overview**"
   ]
  },
  {
   "cell_type": "code",
   "execution_count": 3,
   "id": "b1f313d3",
   "metadata": {
    "execution": {
     "iopub.execute_input": "2025-10-17T18:17:23.717723Z",
     "iopub.status.busy": "2025-10-17T18:17:23.717451Z",
     "iopub.status.idle": "2025-10-17T18:17:23.752878Z",
     "shell.execute_reply": "2025-10-17T18:17:23.751828Z"
    },
    "papermill": {
     "duration": 0.042102,
     "end_time": "2025-10-17T18:17:23.754530",
     "exception": false,
     "start_time": "2025-10-17T18:17:23.712428",
     "status": "completed"
    },
    "tags": []
   },
   "outputs": [
    {
     "name": "stdout",
     "output_type": "stream",
     "text": [
      "<class 'pandas.core.frame.DataFrame'>\n",
      "RangeIndex: 36696 entries, 0 to 36695\n",
      "Data columns (total 7 columns):\n",
      " #   Column              Non-Null Count  Dtype \n",
      "---  ------              --------------  ----- \n",
      " 0   row_id              36696 non-null  int64 \n",
      " 1   QuestionId          36696 non-null  int64 \n",
      " 2   QuestionText        36696 non-null  object\n",
      " 3   MC_Answer           36696 non-null  object\n",
      " 4   StudentExplanation  36696 non-null  object\n",
      " 5   Category            36696 non-null  object\n",
      " 6   Misconception       9860 non-null   object\n",
      "dtypes: int64(2), object(5)\n",
      "memory usage: 2.0+ MB\n"
     ]
    }
   ],
   "source": [
    "train.info()"
   ]
  },
  {
   "cell_type": "markdown",
   "id": "27dd429b",
   "metadata": {
    "papermill": {
     "duration": 0.004448,
     "end_time": "2025-10-17T18:17:23.763444",
     "exception": false,
     "start_time": "2025-10-17T18:17:23.758996",
     "status": "completed"
    },
    "tags": []
   },
   "source": [
    "**Categorical Feature Summary**"
   ]
  },
  {
   "cell_type": "code",
   "execution_count": 4,
   "id": "63346f6c",
   "metadata": {
    "execution": {
     "iopub.execute_input": "2025-10-17T18:17:23.773673Z",
     "iopub.status.busy": "2025-10-17T18:17:23.773346Z",
     "iopub.status.idle": "2025-10-17T18:17:23.835419Z",
     "shell.execute_reply": "2025-10-17T18:17:23.834472Z"
    },
    "papermill": {
     "duration": 0.06938,
     "end_time": "2025-10-17T18:17:23.837062",
     "exception": false,
     "start_time": "2025-10-17T18:17:23.767682",
     "status": "completed"
    },
    "tags": []
   },
   "outputs": [
    {
     "data": {
      "text/html": [
       "<div>\n",
       "<style scoped>\n",
       "    .dataframe tbody tr th:only-of-type {\n",
       "        vertical-align: middle;\n",
       "    }\n",
       "\n",
       "    .dataframe tbody tr th {\n",
       "        vertical-align: top;\n",
       "    }\n",
       "\n",
       "    .dataframe thead th {\n",
       "        text-align: right;\n",
       "    }\n",
       "</style>\n",
       "<table border=\"1\" class=\"dataframe\">\n",
       "  <thead>\n",
       "    <tr style=\"text-align: right;\">\n",
       "      <th></th>\n",
       "      <th>QuestionText</th>\n",
       "      <th>MC_Answer</th>\n",
       "      <th>StudentExplanation</th>\n",
       "      <th>Category</th>\n",
       "      <th>Misconception</th>\n",
       "    </tr>\n",
       "  </thead>\n",
       "  <tbody>\n",
       "    <tr>\n",
       "      <th>count</th>\n",
       "      <td>36696</td>\n",
       "      <td>36696</td>\n",
       "      <td>36696</td>\n",
       "      <td>36696</td>\n",
       "      <td>9860</td>\n",
       "    </tr>\n",
       "    <tr>\n",
       "      <th>unique</th>\n",
       "      <td>15</td>\n",
       "      <td>49</td>\n",
       "      <td>35726</td>\n",
       "      <td>6</td>\n",
       "      <td>35</td>\n",
       "    </tr>\n",
       "    <tr>\n",
       "      <th>top</th>\n",
       "      <td>What fraction of the shape is not shaded? Give...</td>\n",
       "      <td>\\( \\frac{1}{3} \\)</td>\n",
       "      <td>i think this because 24 divided by 2 is 12</td>\n",
       "      <td>True_Correct</td>\n",
       "      <td>Incomplete</td>\n",
       "    </tr>\n",
       "    <tr>\n",
       "      <th>freq</th>\n",
       "      <td>4857</td>\n",
       "      <td>2599</td>\n",
       "      <td>21</td>\n",
       "      <td>14802</td>\n",
       "      <td>1454</td>\n",
       "    </tr>\n",
       "  </tbody>\n",
       "</table>\n",
       "</div>"
      ],
      "text/plain": [
       "                                             QuestionText          MC_Answer  \\\n",
       "count                                               36696              36696   \n",
       "unique                                                 15                 49   \n",
       "top     What fraction of the shape is not shaded? Give...  \\( \\frac{1}{3} \\)   \n",
       "freq                                                 4857               2599   \n",
       "\n",
       "                                StudentExplanation      Category Misconception  \n",
       "count                                        36696         36696          9860  \n",
       "unique                                       35726             6            35  \n",
       "top     i think this because 24 divided by 2 is 12  True_Correct    Incomplete  \n",
       "freq                                            21         14802          1454  "
      ]
     },
     "execution_count": 4,
     "metadata": {},
     "output_type": "execute_result"
    }
   ],
   "source": [
    "train.describe(include=\"object\")"
   ]
  },
  {
   "cell_type": "markdown",
   "id": "ba056aef",
   "metadata": {
    "papermill": {
     "duration": 0.004132,
     "end_time": "2025-10-17T18:17:23.845918",
     "exception": false,
     "start_time": "2025-10-17T18:17:23.841786",
     "status": "completed"
    },
    "tags": []
   },
   "source": [
    "**Checking Missing Values**"
   ]
  },
  {
   "cell_type": "code",
   "execution_count": 5,
   "id": "2b0fbbc1",
   "metadata": {
    "execution": {
     "iopub.execute_input": "2025-10-17T18:17:23.856269Z",
     "iopub.status.busy": "2025-10-17T18:17:23.855630Z",
     "iopub.status.idle": "2025-10-17T18:17:23.874401Z",
     "shell.execute_reply": "2025-10-17T18:17:23.873478Z"
    },
    "papermill": {
     "duration": 0.02557,
     "end_time": "2025-10-17T18:17:23.875853",
     "exception": false,
     "start_time": "2025-10-17T18:17:23.850283",
     "status": "completed"
    },
    "tags": []
   },
   "outputs": [
    {
     "data": {
      "text/plain": [
       "row_id                    0\n",
       "QuestionId                0\n",
       "QuestionText              0\n",
       "MC_Answer                 0\n",
       "StudentExplanation        0\n",
       "Category                  0\n",
       "Misconception         26836\n",
       "dtype: int64"
      ]
     },
     "execution_count": 5,
     "metadata": {},
     "output_type": "execute_result"
    }
   ],
   "source": [
    "train.isna().sum()"
   ]
  },
  {
   "cell_type": "markdown",
   "id": "231485b3",
   "metadata": {
    "papermill": {
     "duration": 0.004275,
     "end_time": "2025-10-17T18:17:23.884880",
     "exception": false,
     "start_time": "2025-10-17T18:17:23.880605",
     "status": "completed"
    },
    "tags": []
   },
   "source": [
    "**Check for Duplicate Rows**"
   ]
  },
  {
   "cell_type": "code",
   "execution_count": 6,
   "id": "ce2b2ed9",
   "metadata": {
    "execution": {
     "iopub.execute_input": "2025-10-17T18:17:23.895000Z",
     "iopub.status.busy": "2025-10-17T18:17:23.894715Z",
     "iopub.status.idle": "2025-10-17T18:17:23.930295Z",
     "shell.execute_reply": "2025-10-17T18:17:23.929187Z"
    },
    "papermill": {
     "duration": 0.042568,
     "end_time": "2025-10-17T18:17:23.931892",
     "exception": false,
     "start_time": "2025-10-17T18:17:23.889324",
     "status": "completed"
    },
    "tags": []
   },
   "outputs": [
    {
     "data": {
      "text/plain": [
       "False"
      ]
     },
     "execution_count": 6,
     "metadata": {},
     "output_type": "execute_result"
    }
   ],
   "source": [
    "train.duplicated().any()"
   ]
  },
  {
   "cell_type": "markdown",
   "id": "eff8c44a",
   "metadata": {
    "papermill": {
     "duration": 0.004309,
     "end_time": "2025-10-17T18:17:23.940983",
     "exception": false,
     "start_time": "2025-10-17T18:17:23.936674",
     "status": "completed"
    },
    "tags": []
   },
   "source": [
    "**Analyse target (Misconception)**"
   ]
  },
  {
   "cell_type": "code",
   "execution_count": 7,
   "id": "a599639a",
   "metadata": {
    "execution": {
     "iopub.execute_input": "2025-10-17T18:17:23.951433Z",
     "iopub.status.busy": "2025-10-17T18:17:23.951119Z",
     "iopub.status.idle": "2025-10-17T18:17:26.299161Z",
     "shell.execute_reply": "2025-10-17T18:17:26.298214Z"
    },
    "papermill": {
     "duration": 2.355635,
     "end_time": "2025-10-17T18:17:26.301288",
     "exception": false,
     "start_time": "2025-10-17T18:17:23.945653",
     "status": "completed"
    },
    "tags": []
   },
   "outputs": [
    {
     "data": {
      "image/png": "[encoded data removed]",
      "text/plain": [
       "<Figure size 1000x600 with 1 Axes>"
      ]
     },
     "metadata": {},
     "output_type": "display_data"
    }
   ],
   "source": [
    "import seaborn as sns\n",
    "import matplotlib.pyplot as plt\n",
    "\n",
    "labeled = train[~train[\"Misconception\"].isna()]\n",
    "plt.figure(figsize=(10,6))\n",
    "sns.countplot(y=labeled[\"Misconception\"], order=labeled[\"Misconception\"].value_counts().index)\n",
    "plt.title(\"Distribution of Misconceptions\")\n",
    "plt.show()"
   ]
  },
  {
   "cell_type": "markdown",
   "id": "0888162d",
   "metadata": {
    "papermill": {
     "duration": 0.005651,
     "end_time": "2025-10-17T18:17:26.313420",
     "exception": false,
     "start_time": "2025-10-17T18:17:26.307769",
     "status": "completed"
    },
    "tags": []
   },
   "source": [
    "Here, the most frequent misconception is Incomplete. Let’s examine how the Incomplete misconception appears and analyze its distribution across categories."
   ]
  },
  {
   "cell_type": "code",
   "execution_count": 8,
   "id": "5398716a",
   "metadata": {
    "execution": {
     "iopub.execute_input": "2025-10-17T18:17:26.326866Z",
     "iopub.status.busy": "2025-10-17T18:17:26.326405Z",
     "iopub.status.idle": "2025-10-17T18:17:26.481253Z",
     "shell.execute_reply": "2025-10-17T18:17:26.480203Z"
    },
    "papermill": {
     "duration": 0.163498,
     "end_time": "2025-10-17T18:17:26.482888",
     "exception": false,
     "start_time": "2025-10-17T18:17:26.319390",
     "status": "completed"
    },
    "tags": []
   },
   "outputs": [
    {
     "data": {
      "image/png": "[encoded data removed]",
      "text/plain": [
       "<Figure size 800x500 with 1 Axes>"
      ]
     },
     "metadata": {},
     "output_type": "display_data"
    }
   ],
   "source": [
    "incomplete = train[train[\"Misconception\"] == \"Incomplete\"]\n",
    "\n",
    "plt.figure(figsize=(8,5))\n",
    "sns.countplot(x=incomplete[\"Category\"], order=incomplete[\"Category\"].value_counts().index)\n",
    "plt.title(\"Distribution of Categories for Misconception = Incomplete\")\n",
    "plt.xlabel(\"Category\")\n",
    "plt.ylabel(\"Count\")\n",
    "plt.show()"
   ]
  },
  {
   "cell_type": "code",
   "execution_count": 9,
   "id": "daa26a7d",
   "metadata": {
    "execution": {
     "iopub.execute_input": "2025-10-17T18:17:26.497943Z",
     "iopub.status.busy": "2025-10-17T18:17:26.497667Z",
     "iopub.status.idle": "2025-10-17T18:17:26.507354Z",
     "shell.execute_reply": "2025-10-17T18:17:26.506224Z"
    },
    "papermill": {
     "duration": 0.01901,
     "end_time": "2025-10-17T18:17:26.508852",
     "exception": false,
     "start_time": "2025-10-17T18:17:26.489842",
     "status": "completed"
    },
    "tags": []
   },
   "outputs": [
    {
     "name": "stdout",
     "output_type": "stream",
     "text": [
      "Category\n",
      "False_Misconception    1446\n",
      "True_Misconception        8\n",
      "Name: count, dtype: int64\n"
     ]
    }
   ],
   "source": [
    "incomplete = train[train[\"Misconception\"] == \"Incomplete\"]\n",
    "\n",
    "category_counts = incomplete[\"Category\"].value_counts()\n",
    "print(category_counts)"
   ]
  },
  {
   "cell_type": "markdown",
   "id": "45ba6ffd",
   "metadata": {
    "papermill": {
     "duration": 0.006324,
     "end_time": "2025-10-17T18:17:26.521844",
     "exception": false,
     "start_time": "2025-10-17T18:17:26.515520",
     "status": "completed"
    },
    "tags": []
   },
   "source": [
    "Most Incomplete misconceptions are labeled False_Misconception, with only a few True_Misconception entries, which is logical"
   ]
  },
  {
   "cell_type": "markdown",
   "id": "9ef18e6e",
   "metadata": {
    "papermill": {
     "duration": 0.006149,
     "end_time": "2025-10-17T18:17:26.534486",
     "exception": false,
     "start_time": "2025-10-17T18:17:26.528337",
     "status": "completed"
    },
    "tags": []
   },
   "source": [
    "**Examine Top Questions and Answers (False_Misconception) for Incomplete**"
   ]
  },
  {
   "cell_type": "markdown",
   "id": "ddf97976",
   "metadata": {
    "papermill": {
     "duration": 0.00625,
     "end_time": "2025-10-17T18:17:26.547488",
     "exception": false,
     "start_time": "2025-10-17T18:17:26.541238",
     "status": "completed"
    },
    "tags": []
   },
   "source": [
    "Now, we focus on the top questions and top answers that are labeled as False_Misconception within the Incomplete misconception.\n",
    "\n",
    "This helps us understand which questions students commonly get wrong without it being a true misconception and what specific answers are incorrect, providing insights for feature analysis and modeling."
   ]
  },
  {
   "cell_type": "code",
   "execution_count": 10,
   "id": "c9e59e37",
   "metadata": {
    "execution": {
     "iopub.execute_input": "2025-10-17T18:17:26.561599Z",
     "iopub.status.busy": "2025-10-17T18:17:26.561314Z",
     "iopub.status.idle": "2025-10-17T18:17:26.574330Z",
     "shell.execute_reply": "2025-10-17T18:17:26.573213Z"
    },
    "papermill": {
     "duration": 0.021964,
     "end_time": "2025-10-17T18:17:26.575833",
     "exception": false,
     "start_time": "2025-10-17T18:17:26.553869",
     "status": "completed"
    },
    "tags": []
   },
   "outputs": [
    {
     "name": "stdout",
     "output_type": "stream",
     "text": [
      "QuestionId: 31772\n",
      "QuestionText: What fraction of the shape is not shaded? Give your answer in its simplest form. [Image: A triangle split into 9 equal smaller triangles. 6 of them are shaded.]\n",
      "\n",
      "QuestionId: 31777\n",
      "QuestionText: A box contains \\( 120 \\) counters. The counters are red or blue. \\( \\frac{3}{5} \\) of the counters are red.\n",
      "How many red counters are there?\n",
      "\n",
      "QuestionId: 33471\n",
      "QuestionText: A bag contains \\( 24 \\) yellow and green balls. \\( \\frac{3}{8} \\) of the balls are yellow. How many of the balls are green?\n",
      "\n"
     ]
    }
   ],
   "source": [
    "incomplete_false = incomplete[incomplete[\"Category\"] == \"False_Misconception\"]\n",
    "top_ids = incomplete_false[\"QuestionId\"].value_counts().head(10).index\n",
    "top_questions = incomplete_false[incomplete_false[\"QuestionId\"].isin(top_ids)][[\"QuestionId\", \"QuestionText\"]].drop_duplicates()\n",
    "\n",
    "for i, row in top_questions.iterrows():\n",
    "    print(f\"QuestionId: {row['QuestionId']}\\nQuestionText: {row['QuestionText']}\\n\")"
   ]
  },
  {
   "cell_type": "code",
   "execution_count": 11,
   "id": "65938b5f",
   "metadata": {
    "execution": {
     "iopub.execute_input": "2025-10-17T18:17:26.590718Z",
     "iopub.status.busy": "2025-10-17T18:17:26.590408Z",
     "iopub.status.idle": "2025-10-17T18:17:26.598571Z",
     "shell.execute_reply": "2025-10-17T18:17:26.596899Z"
    },
    "papermill": {
     "duration": 0.017554,
     "end_time": "2025-10-17T18:17:26.600172",
     "exception": false,
     "start_time": "2025-10-17T18:17:26.582618",
     "status": "completed"
    },
    "tags": []
   },
   "outputs": [
    {
     "name": "stdout",
     "output_type": "stream",
     "text": [
      "1: 9 triangles in total and 3 are not shaded and 6 are.\n",
      "\n",
      "2: Because there are 3 triangles not shaded in.\n",
      "\n",
      "3: Because there are 6 spaces shaded out of 9 which leaves 3 spaces unshaded\n",
      "\n",
      "4: Because three pieces are not shaded in\n",
      "\n",
      "5: I think this because if the triangle is shading out of 9,and 3 are left,it has to be 3 over 9.\n",
      "\n",
      "6: Only three is not shaded in and there is 9 in total.\n",
      "\n",
      "7: The holder is 6 and is only 1 6 holder\n",
      "\n",
      "8: There are 9 triangles and 3 are not shaded .you can not simplify three nineths so that is the answer\n",
      "\n",
      "9: There are 9 triangles and 6 are shaded witch means there’s 3 non shaded\n",
      "\n",
      "10: There are 9 triangles in totak and 3 are not shaded and 6 are.\n",
      "\n",
      "11: because there are 6 triangles shaded and there are 9 all together\n",
      "\n",
      "12: i think this because if the triangle is shading out of 9,and 3 are left it has to be 3 over 9\n",
      "\n",
      "13: only three is not shaded in and there is 9 in toatle\n",
      "\n",
      "14: there are 6 spaces shaded out of 9 which leaves 3 spaces unshaded\n",
      "\n",
      "15: there are 6 spaces shadedd out of 9 which leaves 3 spaces unshaded\n",
      "\n",
      "16: there are 9 triangles and 3 are not shaded so the answer is 39.\n",
      "\n",
      "17: there are 9 triangles and 3 are not shaded. you can not simplify three nineths so that is the answer.\n",
      "\n",
      "18: there are 9 triangles and 3 not shaded so the answer is 3\\9\n",
      "\n",
      "19: there are 9 triangles and 6 are shaded witch means there’s 3 non-shaded.\n",
      "\n",
      "20: 3/9 because there is 9 triangles and three are not shaded so the answer =D\n",
      "\n",
      "21: I think the because count all the white and blue which is 9 then 3 are shaded\n",
      "\n",
      "22: I think this because if you numerator is 3 your denominator will have to be 9 so your answer will be 3/9\n",
      "\n",
      "23: I think this is because if your numerator is 3, your denominator willl have to be 9, so your answer will be 3/9.\n",
      "\n",
      "24: 1 whole 9/9 the triangles which are not shaded is 3/9\n",
      "\n",
      "25: 1 whole 9/9 the triangles which are not shaded is 3/9.\n",
      "\n",
      "26: 3  not coloured in all together 9\n",
      "\n",
      "27: 3 are not shaded and 9 pieces in total.\n",
      "\n",
      "28: 3 are not shaded and there are 9 peases\n",
      "\n",
      "29: 3 are not shaded and there are 9 peases.\n",
      "\n",
      "30: 3 are not shaded in and the rest are shaded which means it would be d\n",
      "\n",
      "31: 3 are not shaded out of 9\n",
      "\n",
      "32: 3 are not shaded out of 9.\n",
      "\n",
      "33: 3 are not shaded out of a total of 9 triangles.\n",
      "\n",
      "34: 3 are shaded out of the 9 total shape.\n",
      "\n",
      "35: 3 aren’t shaded and there are 9 triangles\n",
      "\n",
      "36: 3 is not shaded and 9 triangles are there altogether\n",
      "\n",
      "37: 3 is shaded and it is out of 9.\n",
      "\n",
      "38: 3 is shaded out of nine\n",
      "\n",
      "39: 3 not coliured in all together 9\n",
      "\n",
      "40: 3 not shaded \n",
      "9 squares all together\n",
      "\n",
      "41: 3 not shaded 9 squares all together.\n",
      "\n",
      "42: 3 not shaded and the total is 9\n",
      "\n",
      "43: 3 of the 9 triangles are not shaded\n",
      "\n",
      "44: 3 of the 9 triangles aren't coloured in so that equals 3/9\n",
      "\n",
      "45: 3 of the 9 triangles aren't coloured in so that equals 3/9.\n",
      "\n",
      "46: 3 of the triangles are not blue\n",
      "\n",
      "47: 3 of the triangles are not shaded and 6 of them are, all together it adds up to 9.\n",
      "\n",
      "48: 3 of the triangles are not shaded and there are 9 triangles all together\n",
      "\n",
      "49: 3 of them are not shaded and also it is 9 triangles inside the tryangle\n",
      "\n",
      "50: 3 of them are not shaded out of the nine.\n",
      "\n",
      "51: 3 of them aren't shaded and there are 9 boxes (3 in 9 = 3/9\n",
      "\n",
      "52: 3 out of 9 are not shaded\n",
      "\n",
      "53: 3 out of 9 are not shaded\n",
      "\n",
      "54: 3 out of 9 are not shaded\n",
      "\n",
      "55: 3 out of 9 are not shaded\n",
      "\n",
      "56: 3 out of 9 are not shaded\n",
      "\n",
      "57: 3 out of 9 are not shaded\n",
      "\n",
      "58: 3 out of 9 are not shaded\n",
      "\n",
      "59: 3 out of 9 are not shaded\n",
      "\n",
      "60: 3 out of 9 arent shaded\n",
      "\n",
      "61: 3 out of 9 arent shaded\n",
      "\n",
      "62: 3 out of 9 triangles are not shaded\n",
      "\n",
      "63: 3 out of Nine parts are not shaded\n",
      "\n",
      "64: 3 out of the 9 are not shaded\n",
      "\n",
      "65: 3 out of the nine triangles are not shaded\n",
      "\n",
      "66: 3 out of the nine triangless are not shaded\n",
      "\n",
      "67: 3 out of thee 9 are not shaded\n",
      "\n",
      "68: 3 parts ant saded and thers 9 all to gefer\n",
      "\n",
      "69: 3 parts aren't shaded out of a total of 9\n",
      "\n",
      "70: 3 sections are not shaped and there are 9 parts overall.\n",
      "\n",
      "71: 3 triangles are not shaded and it is out of 9 so 3/9\n",
      "\n",
      "72: 3 triangles are not shaded and it is outt of 9 so 3/9.\n",
      "\n",
      "73: 3 triangles are not shaded but 9 are\n",
      "\n",
      "74: 3 triangles are white and all are 9 so 3/9\n",
      "\n",
      "75: 3 triangles are white and all are 9 so 3/9.\n",
      "\n",
      "76: 3 white triangles and 9 triangle all together\n",
      "\n",
      "77: 3 white triangles and 9 triangle alll together.\n",
      "\n",
      "78: 3/9 . I got this by simply counting\n",
      "\n",
      "79: 3/9 Because  when i counted the triangle and i counted 9 that are shaded and 3 not shaded\n",
      "\n",
      "80: 3/9 because 3 triangles are not shaded and there are 9 triangles, so its 3 out of 9.\n",
      "\n",
      "81: 3/9 because by counting the non shaded and all of the boxes together it gives me 3/9\n",
      "\n",
      "82: 3/9 because by counting the non shaded boxes and all of the boxes together it gives me 3 / 9.\n",
      "\n",
      "83: 3/9 because even though the top one is shaded dark blue\n",
      "\n",
      "84: 3/9 because even though the top one is shaded dark blue\n",
      "\n",
      "85: 3/9 because there are 9 triangles and 3 are not shaded\n",
      "\n",
      "86: 3/9 because there is 9 parts and 3 are not shaded\n",
      "\n",
      "87: 3/9 because there is 9 partss and 3 are not shaded\n",
      "\n",
      "88: 3/9 because there is 9 triangles and 3 are not shaded\n",
      "\n",
      "89: 3/9 because you can not simplify 3/9\n",
      "\n",
      "90: 3/9 is so difficult to simplify that even a child can not understand it.\n",
      "\n",
      "91: 3parts are not shaded amd the other 6 are, so 3 plus 6= 9 3/9.\n",
      "\n",
      "92: 3parts are not shaded and the other 6 are, so 3 plus 6= 9 3/9\n",
      "\n",
      "93: 5+3+1=9 and there is 3 unshaded so 3\n",
      "                                                                   -\n",
      "                                                                   9\n",
      "\n",
      "94: 5+3+1=9 and there is 3 unshaded so 3 - 9.\n",
      "\n",
      "95: 6/9 is shaded therefore 3 must be left so the answer is 3/9\n",
      "\n",
      "96: 6/9 is shaded therefore 3 must be left therefore the answer is 3/9.\n",
      "\n",
      "97: 6/9 of the shape is shaded so you do 9/9-6/9 which gives you 3/9\n",
      "\n",
      "98: 9 all thougher and there is 3 not shading in so it is 3/9\n",
      "\n",
      "99: 9 all together and 3 aren’t shaded\n",
      "\n",
      "100: 9 parts 3 are not shaded in\n",
      "\n"
     ]
    }
   ],
   "source": [
    "incomplete_false = incomplete[incomplete[\"Category\"] == \"False_Misconception\"]\n",
    "\n",
    "for i, explanation in enumerate(incomplete_false[\"StudentExplanation\"][:100], 1):\n",
    "    print(f\"{i}: {explanation}\\n\")"
   ]
  },
  {
   "cell_type": "markdown",
   "id": "ddb775ce",
   "metadata": {
    "papermill": {
     "duration": 0.006745,
     "end_time": "2025-10-17T18:17:26.614005",
     "exception": false,
     "start_time": "2025-10-17T18:17:26.607260",
     "status": "completed"
    },
    "tags": []
   },
   "source": [
    "We notice that many answers are exactly the same or very similar, which shows that students either express the same idea in different ways or may be copying each other."
   ]
  }
 ],
 "metadata": {
  "kaggle": {
   "accelerator": "none",
   "dataSources": [
    {
     "databundleVersionId": 12957508,
     "sourceId": 104383,
     "sourceType": "competition"
    }
   ],
   "dockerImageVersionId": 31153,
   "isGpuEnabled": false,
   "isInternetEnabled": true,
   "language": "python",
   "sourceType": "notebook"
  },
  "kernelspec": {
   "display_name": "Python 3",
   "language": "python",
   "name": "python3"
  },
  "language_info": {
   "codemirror_mode": {
    "name": "ipython",
    "version": 3
   },
   "file_extension": ".py",
   "mimetype": "text/x-python",
   "name": "python",
   "nbconvert_exporter": "python",
   "pygments_lexer": "ipython3",
   "version": "3.11.13"
  },
  "papermill": {
   "default_parameters": {},
   "duration": 15.567886,
   "end_time": "2025-10-17T18:17:27.240391",
   "environment_variables": {},
   "exception": null,
   "input_path": "__notebook__.ipynb",
   "output_path": "__notebook__.ipynb",
   "parameters": {},
   "start_time": "2025-10-17T18:17:11.672505",
   "version": "2.6.0"
  }
 },
 "nbformat": 4,
 "nbformat_minor": 5
}
